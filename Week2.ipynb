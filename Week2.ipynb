{
 "cells": [
  {
   "cell_type": "code",
   "execution_count": 2,
   "metadata": {},
   "outputs": [
    {
     "data": {
      "text/plain": [
       "['__build_class__',\n",
       " '__import__',\n",
       " 'abs',\n",
       " 'aiter',\n",
       " 'all',\n",
       " 'anext',\n",
       " 'any',\n",
       " 'ascii',\n",
       " 'bin',\n",
       " 'breakpoint',\n",
       " 'callable',\n",
       " 'chr',\n",
       " 'compile',\n",
       " 'delattr',\n",
       " 'dir',\n",
       " 'divmod',\n",
       " 'eval',\n",
       " 'exec',\n",
       " 'format',\n",
       " 'getattr',\n",
       " 'globals',\n",
       " 'hasattr',\n",
       " 'hash',\n",
       " 'hex',\n",
       " 'id',\n",
       " 'isinstance',\n",
       " 'issubclass',\n",
       " 'iter',\n",
       " 'len',\n",
       " 'locals',\n",
       " 'max',\n",
       " 'min',\n",
       " 'next',\n",
       " 'oct',\n",
       " 'open',\n",
       " 'ord',\n",
       " 'pow',\n",
       " 'print',\n",
       " 'repr',\n",
       " 'round',\n",
       " 'setattr',\n",
       " 'sorted',\n",
       " 'sum',\n",
       " 'vars']"
      ]
     },
     "execution_count": 2,
     "metadata": {},
     "output_type": "execute_result"
    }
   ],
   "source": [
    "import builtins\n",
    "# Get a list of all built-in  types, exceptions, functions\n",
    "\n",
    "functions = dir(builtins)\n",
    "# Print the list \n",
    "\n",
    "# print(functions)\n",
    "\n",
    "built_in_functions = [func for func in functions if type(getattr(builtins, func)) == type(print)]\n",
    "\n",
    "built_in_functions"
   ]
  },
  {
   "cell_type": "markdown",
   "metadata": {
    "id": "G65Uah2zC5lO"
   },
   "source": [
    "<table align=\"left\">\n",
    "    <tr>\n",
    "        <td width=\"6%\">\n",
    "            <img src=\"question_icon.png\">\n",
    "        </td>\n",
    "        <td>\n",
    "            <div align=\"left\", style=\"font-size:120%\">\n",
    "                <font color=\"#21618C\">\n",
    "                    <b>1. Write a code to print table of 5 using assignment operand +=.</b>\n",
    "                </font>\n",
    "            </div>\n",
    "        </td>\n",
    "    </tr>\n",
    "</table>"
   ]
  },
  {
   "cell_type": "code",
   "execution_count": 9,
   "metadata": {
    "id": "cHQtKuEIC5lP"
   },
   "outputs": [
    {
     "name": "stdout",
     "output_type": "stream",
     "text": [
      "5\n",
      "10\n",
      "15\n",
      "20\n",
      "25\n",
      "30\n",
      "35\n",
      "40\n",
      "45\n",
      "50\n",
      "55\n"
     ]
    }
   ],
   "source": [
    "i = 0\n",
    "for j in range(0,11):\n",
    "    i+=5\n",
    "    print(i)"
   ]
  },
  {
   "cell_type": "code",
   "execution_count": 10,
   "metadata": {},
   "outputs": [
    {
     "name": "stdout",
     "output_type": "stream",
     "text": [
      "5 * 1 = 5\n",
      "5 * 2 = 10\n",
      "5 * 3 = 15\n",
      "5 * 4 = 20\n",
      "5 * 5 = 25\n",
      "5 * 6 = 30\n",
      "5 * 7 = 35\n",
      "5 * 8 = 40\n",
      "5 * 9 = 45\n",
      "5 * 10 = 50\n"
     ]
    }
   ],
   "source": [
    "num = 0\n",
    "\n",
    "for i in range(1,11):\n",
    "\n",
    "    num+=5\n",
    "\n",
    "    print('5 * {} = {}'.format(i,num))"
   ]
  },
  {
   "cell_type": "markdown",
   "metadata": {
    "id": "OiqCNHGhC5lQ"
   },
   "source": [
    "<table align=\"left\">\n",
    "    <tr>\n",
    "        <td width=\"6%\">\n",
    "            <img src=\"question_icon.png\">\n",
    "        </td>\n",
    "        <td>\n",
    "            <div align=\"left\", style=\"font-size:120%\">\n",
    "                <font color=\"#21618C\">\n",
    "                    <b>2. Write a program for generating a fibonacci series starting with 0 and 1 for the next 10 values using a while loop. </b>\n",
    "                </font>\n",
    "            </div>\n",
    "        </td>\n",
    "    </tr>\n",
    "</table>"
   ]
  },
  {
   "cell_type": "code",
   "execution_count": 25,
   "metadata": {
    "id": "w0Ba6n87C5lQ"
   },
   "outputs": [
    {
     "data": {
      "text/plain": [
       "[0, 1, 1, 2, 3, 5, 8, 13, 21, 34, 55, 89]"
      ]
     },
     "execution_count": 25,
     "metadata": {},
     "output_type": "execute_result"
    }
   ],
   "source": [
    "#expected output [0,1,1,2,3,5,8,13]\n",
    "f=[0,1]\n",
    "for i in range (1,11):\n",
    "    f.append(f[i] + f[i-1])\n",
    "f"
   ]
  },
  {
   "cell_type": "markdown",
   "metadata": {
    "id": "beg44NB8C5lR"
   },
   "source": [
    "<table align=\"left\">\n",
    "    <tr>\n",
    "        <td width=\"6%\">\n",
    "            <img src=\"question_icon.png\">\n",
    "        </td>\n",
    "        <td>\n",
    "            <div align=\"left\", style=\"font-size:120%\">\n",
    "                <font color=\"#21618C\">\n",
    "                    <b>3. Write a program to check whether a number is greater than the other using if statement (take the input from user).</b>\n",
    "                </font>\n",
    "            </div>\n",
    "        </td>\n",
    "    </tr>\n",
    "</table>"
   ]
  },
  {
   "cell_type": "code",
   "execution_count": 33,
   "metadata": {
    "id": "5GC99CsOC5lR"
   },
   "outputs": [
    {
     "name": "stdout",
     "output_type": "stream",
     "text": [
      "2\n",
      "1\n",
      "2  is greater than  1\n"
     ]
    }
   ],
   "source": [
    "a=int(input())\n",
    "b=int(input())\n",
    "if a>b:\n",
    "    print(a, \" is greater than \", b)"
   ]
  },
  {
   "cell_type": "markdown",
   "metadata": {
    "id": "nqKFuCIHC5lR"
   },
   "source": [
    "<table align=\"left\">\n",
    "    <tr>\n",
    "        <td width=\"6%\">\n",
    "            <img src=\"question_icon.png\">\n",
    "        </td>\n",
    "        <td>\n",
    "            <div align=\"left\", style=\"font-size:120%\">\n",
    "                <font color=\"#21618C\">\n",
    "                    <b>4. Write a code to check whether a number is divisible by 7 or not (take the input from user). </b>\n",
    "                </font>\n",
    "            </div>\n",
    "        </td>\n",
    "    </tr>\n",
    "</table>"
   ]
  },
  {
   "cell_type": "code",
   "execution_count": 40,
   "metadata": {
    "id": "j6U4oUUzC5lS"
   },
   "outputs": [
    {
     "name": "stdout",
     "output_type": "stream",
     "text": [
      "7\n",
      "7  is divisible by7\n"
     ]
    }
   ],
   "source": [
    "i = int(input())\n",
    "if i%7==0:\n",
    "        print(i, \" is divisible by7\")\n",
    "else:\n",
    "    print(i, \"i is not divisible by 7\")"
   ]
  },
  {
   "cell_type": "markdown",
   "metadata": {
    "id": "lViDgTjyC5lS"
   },
   "source": [
    "<table align=\"left\">\n",
    "    <tr>\n",
    "        <td width=\"6%\">\n",
    "            <img src=\"question_icon.png\">\n",
    "        </td>\n",
    "        <td>\n",
    "            <div align=\"left\", style=\"font-size:120%\">\n",
    "                <font color=\"#21618C\">\n",
    "                    <b>5. Write a code to find factorial of a number (take the input from user). </b>\n",
    "                </font>\n",
    "            </div>\n",
    "        </td>\n",
    "    </tr>\n",
    "</table>"
   ]
  },
  {
   "cell_type": "code",
   "execution_count": 65,
   "metadata": {
    "id": "DJC6LKYsC5lT"
   },
   "outputs": [
    {
     "name": "stdout",
     "output_type": "stream",
     "text": [
      "3\n",
      "6\n"
     ]
    }
   ],
   "source": [
    "a = int(input())\n",
    "b=1\n",
    "if a==0:\n",
    "    print(\"a factorial is 1\")\n",
    "elif a>0:\n",
    "    for i in range(1, a+1):\n",
    "        b*=i\n",
    "    print(b)\n",
    "else:\n",
    "    print('error')"
   ]
  },
  {
   "cell_type": "code",
   "execution_count": 59,
   "metadata": {},
   "outputs": [
    {
     "name": "stdout",
     "output_type": "stream",
     "text": [
      "Enter a number: 6\n",
      "720\n"
     ]
    }
   ],
   "source": [
    "# type your code here\n",
    "\n",
    "num = int(input(\"Enter a number: \"))\n",
    "\n",
    "fact = 1\n",
    "\n",
    "if num == 0:\n",
    "\n",
    "    print(f'Factorial of {num} is 1')\n",
    "\n",
    "elif num > 0:\n",
    "\n",
    "    for i in range(1,num+1):\n",
    "\n",
    "        fact = fact * i\n",
    "\n",
    "    print(fact)\n",
    "\n",
    "else:\n",
    "\n",
    "    print(\"Factorial doesn't exist\")"
   ]
  },
  {
   "cell_type": "markdown",
   "metadata": {
    "id": "ApjNuawiC5lT"
   },
   "source": [
    "<table align=\"left\">\n",
    "    <tr>\n",
    "        <td width=\"6%\">\n",
    "            <img src=\"question_icon.png\">\n",
    "        </td>\n",
    "        <td>\n",
    "            <div align=\"left\", style=\"font-size:120%\">\n",
    "                <font color=\"#21618C\">\n",
    "                    <b>6. Write a program to check whether a number is prime or not (take the input from user).</b>\n",
    "                </font>\n",
    "            </div>\n",
    "        </td>\n",
    "    </tr>\n",
    "</table>"
   ]
  },
  {
   "cell_type": "code",
   "execution_count": 57,
   "metadata": {
    "id": "HGr51mZWC5lT"
   },
   "outputs": [
    {
     "name": "stdout",
     "output_type": "stream",
     "text": [
      "enter the number: 4\n",
      "4 not a prime\n"
     ]
    }
   ],
   "source": [
    "a = int(input('enter the number: '))\n",
    "\n",
    "for i in range(2,a):\n",
    "\n",
    "    if a%i==0:\n",
    "\n",
    "        print(a ,'not a prime')\n",
    "\n",
    "        break\n",
    "else:\n",
    "\n",
    "        print(a,'prime')"
   ]
  },
  {
   "cell_type": "markdown",
   "metadata": {
    "id": "IAPUZJOiC5lU"
   },
   "source": [
    "<table align=\"left\">\n",
    "    <tr>\n",
    "        <td width=\"6%\">\n",
    "            <img src=\"question_icon.png\">\n",
    "        </td>\n",
    "        <td>\n",
    "            <div align=\"left\", style=\"font-size:120%\">\n",
    "                <font color=\"#21618C\">\n",
    "                    <b>7. Write a program to check whether two numbers are amicable or not (take the input from user).</b>\n",
    "                </font>\n",
    "            </div>\n",
    "        </td>\n",
    "    </tr>\n",
    "</table>"
   ]
  },
  {
   "cell_type": "code",
   "execution_count": 61,
   "metadata": {
    "id": "wtsC8hpZC5lU"
   },
   "outputs": [
    {
     "name": "stdout",
     "output_type": "stream",
     "text": [
      "Enter the first number : 748\n",
      "Enter the second number : 73\n",
      "The numbers 748 and 73 are not amicable!\n"
     ]
    }
   ],
   "source": [
    "# type your code here\n",
    "\n",
    "num1=int(input('Enter the first number : '))\n",
    "\n",
    "num2=int(input('Enter the second number : '))\n",
    "\n",
    " \n",
    "\n",
    "sum_factors_num1=0\n",
    "\n",
    "sum_factors_num2=0\n",
    "\n",
    " \n",
    "\n",
    "# sum of factors of 1st number\n",
    "\n",
    "for i in range(1,num1):\n",
    "\n",
    "    if num1%i==0:\n",
    "\n",
    "        sum_factors_num1+=i\n",
    "\n",
    "        \n",
    "\n",
    "# sum of factors        \n",
    "\n",
    "for j in range(1,num2):\n",
    "\n",
    "    if num2%j==0:\n",
    "\n",
    "        sum_factors_num2 +=j\n",
    "\n",
    "        \n",
    "\n",
    "# Check if the sum of proper divisors of one number is equal to the other number, and vice versa.\n",
    "\n",
    "if(sum_factors_num1== num2 and sum_factors_num2==num1):\n",
    "\n",
    "    print(\"The numbers\", num1,\"and\",num2 ,\"are amicable!\")\n",
    "\n",
    "else:\n",
    "\n",
    "    print(\"The numbers\", num1,\"and\",num2 ,\"are not amicable!\")"
   ]
  },
  {
   "cell_type": "markdown",
   "metadata": {
    "id": "a2je5IAUC5lU"
   },
   "source": [
    "<table align=\"left\">\n",
    "    <tr>\n",
    "        <td width=\"6%\">\n",
    "            <img src=\"question_icon.png\">\n",
    "        </td>\n",
    "        <td>\n",
    "            <div align=\"left\", style=\"font-size:120%\">\n",
    "                <font color=\"#21618C\">\n",
    "                    <b>8. Reverse string using a for loop (take the input from user).</b>\n",
    "                </font>\n",
    "            </div>\n",
    "        </td>\n",
    "    </tr>\n",
    "</table>"
   ]
  },
  {
   "cell_type": "code",
   "execution_count": 62,
   "metadata": {
    "id": "BkzmTaXwC5lV"
   },
   "outputs": [
    {
     "name": "stdout",
     "output_type": "stream",
     "text": [
      "a\n",
      "i\n",
      "d\n",
      "n\n",
      "I\n"
     ]
    }
   ],
   "source": [
    "s = \"India\"\n",
    "\n",
    "list(range(len(s)-1   ,-1 ,-1))\n",
    "\n",
    "for  x  in range(len(s)-1   ,-1 ,-1):\n",
    "\n",
    "    print(s[x])"
   ]
  },
  {
   "cell_type": "code",
   "execution_count": null,
   "metadata": {},
   "outputs": [],
   "source": [
    "s = \"India\"\n",
    "\n",
    "list(range(len(s)-1   ,-1 ,-1))\n",
    "\n",
    "for  x  in range(len(s)-1   ,-1 ,-1):\n",
    "\n",
    "    print(s[x])"
   ]
  },
  {
   "cell_type": "markdown",
   "metadata": {
    "id": "0QZbxBDhC5lW"
   },
   "source": [
    "<table align=\"left\">\n",
    "    <tr>\n",
    "        <td width=\"6%\">\n",
    "            <img src=\"question_icon.png\">\n",
    "        </td>\n",
    "        <td>\n",
    "            <div align=\"left\", style=\"font-size:120%\">\n",
    "                <font color=\"#21618C\">\n",
    "                    <b>10. Write a program to find the area of a circle for a given radius (take the input from user).</b>\n",
    "                </font>\n",
    "            </div>\n",
    "        </td>\n",
    "    </tr>\n",
    "</table>"
   ]
  },
  {
   "cell_type": "code",
   "execution_count": 1,
   "metadata": {
    "id": "Q4ZWBG6kC5lW"
   },
   "outputs": [
    {
     "name": "stdout",
     "output_type": "stream",
     "text": [
      "69.36260000000001 unit square\n"
     ]
    }
   ],
   "source": [
    "radius = 4.7\n",
    "area = (3.14)*(radius**2)\n",
    "print(area, \"unit square\")"
   ]
  },
  {
   "cell_type": "markdown",
   "metadata": {
    "id": "hF7rRzCoC5lX"
   },
   "source": [
    "<table align=\"left\">\n",
    "    <tr>\n",
    "        <td width=\"6%\">\n",
    "            <img src=\"question_icon.png\">\n",
    "        </td>\n",
    "        <td>\n",
    "            <div align=\"left\", style=\"font-size:120%\">\n",
    "                <font color=\"#21618C\">\n",
    "                    <b>11. Write a code to find the simple interest (take the input from user).</b>\n",
    "                </font>\n",
    "            </div>\n",
    "        </td>\n",
    "    </tr>\n",
    "</table>"
   ]
  },
  {
   "cell_type": "code",
   "execution_count": 2,
   "metadata": {
    "id": "U1rnTkH7C5lX"
   },
   "outputs": [],
   "source": [
    "principal=float(input())\n",
    "rate=floatIinput()\n",
    "time=float(input())\n",
    "simple_interest = (principal * rate * time)/100\n",
    "print(simple_interest)"
   ]
  },
  {
   "cell_type": "code",
   "execution_count": null,
   "metadata": {},
   "outputs": [],
   "source": [
    "# type your code here\n",
    "\n",
    "# type your code here\n",
    "\n",
    "principal = float(input(\"Enter the principal amount: \"))\n",
    "\n",
    "rate = float(input(\"Enter the interest rate: \"))\n",
    "\n",
    "time = float(input(\"Enter the time period in years: \"))\n",
    "\n",
    " \n",
    "simple_interest = (principal * rate * time) / 100\n",
    "\n",
    "print(\"The simple interest is:\", simple_interest)"
   ]
  },
  {
   "cell_type": "markdown",
   "metadata": {
    "id": "uoelg_YzC5lX"
   },
   "source": [
    "<a id= \"lc\"> </a>\n",
    "## 2. List Comprehension"
   ]
  },
  {
   "cell_type": "markdown",
   "metadata": {
    "id": "RLHNURf9C5lY"
   },
   "source": [
    "<table align=\"left\">\n",
    "    <tr>\n",
    "        <td width=\"6%\">\n",
    "            <img src=\"question_icon.png\">\n",
    "        </td>\n",
    "        <td>\n",
    "            <div align=\"left\", style=\"font-size:120%\">\n",
    "                <font color=\"#21618C\">\n",
    "                    <b>12. Use list comprehension to obtain the squre root of first 10 natural numbers.</b>\n",
    "                </font>\n",
    "            </div>\n",
    "        </td>\n",
    "    </tr>\n",
    "</table>"
   ]
  },
  {
   "cell_type": "code",
   "execution_count": 75,
   "metadata": {
    "id": "-3J1ZfNpC5lY"
   },
   "outputs": [
    {
     "name": "stdout",
     "output_type": "stream",
     "text": [
      "[1.0, 1.4142135623730951, 1.7320508075688772, 2.0, 2.23606797749979, 2.449489742783178, 2.6457513110645907, 2.8284271247461903, 3.0]\n"
     ]
    }
   ],
   "source": [
    "# type your code here\n",
    "\n",
    "# to find square root\n",
    "\n",
    "my_list1 = [x**0.5 for x in range(1,10)]\n",
    "\n",
    "print(my_list1)"
   ]
  },
  {
   "cell_type": "markdown",
   "metadata": {
    "id": "c6Q8Z0lmC5lY"
   },
   "source": [
    "<table align=\"left\">\n",
    "    <tr>\n",
    "        <td width=\"6%\">\n",
    "            <img src=\"question_icon.png\">\n",
    "        </td>\n",
    "        <td>\n",
    "            <div align=\"left\", style=\"font-size:120%\">\n",
    "                <font color=\"#21618C\">\n",
    "                    <b>13. Use list comprehension to find the used vowels in a given sentence and/or word (take the input from user). </b>\n",
    "                </font>\n",
    "            </div>\n",
    "        </td>\n",
    "    </tr>\n",
    "</table>"
   ]
  },
  {
   "cell_type": "code",
   "execution_count": 76,
   "metadata": {
    "id": "BQnMRt-oC5lY"
   },
   "outputs": [
    {
     "name": "stdout",
     "output_type": "stream",
     "text": [
      "Enter any string latika\n",
      "['a', 'i', 'a']\n"
     ]
    }
   ],
   "source": [
    "string1=input(\"Enter any string \")\n",
    "\n",
    "lst=[i for i in string1.lower() if i in \"aeiou\"]\n",
    "\n",
    "print(lst)"
   ]
  },
  {
   "cell_type": "code",
   "execution_count": null,
   "metadata": {},
   "outputs": [],
   "source": [
    "#you can create set in the list to avoid duplicate data"
   ]
  },
  {
   "cell_type": "markdown",
   "metadata": {
    "id": "RmW3YEMWC5lZ"
   },
   "source": [
    "<table align=\"left\">\n",
    "    <tr>\n",
    "        <td width=\"6%\">\n",
    "            <img src=\"question_icon.png\">\n",
    "        </td>\n",
    "        <td>\n",
    "            <div align=\"left\", style=\"font-size:120%\">\n",
    "                <font color=\"#21618C\">\n",
    "                    <b>14. Create a dictionary and access it values using a condition on its key. The data is given below. Let the condidtion on the key is that it should be a even number.</b>\n",
    "                </font>\n",
    "            </div>\n",
    "       </td>\n",
    "    </tr>\n",
    "</table>\n"
   ]
  },
  {
   "cell_type": "markdown",
   "metadata": {
    "id": "CUELT4UUC5lZ"
   },
   "source": [
    "<table>\n",
    "<tr>\n",
    "    <th>Key</th>\n",
    "    <td>1</td>\n",
    "    <td>2</td>\n",
    "    <td>3</td>\n",
    "    <td>4</td> \n",
    "    <td>5</td> \n",
    "</tr>\n",
    "<tr>\n",
    "    <th>Name</th>\n",
    "    <td>Aman</td>\n",
    "    <td>Mohit</td>\n",
    "    <td>Guari</td>\n",
    "    <td>Imran</td>\n",
    "    <td>Roma</td\n",
    "     </tr>\n",
    "<tr>\n",
    "    <th>Marks</th>\n",
    "    <td>24</td>\n",
    "    <td>25</td>\n",
    "    <td>26</td>\n",
    "    <td>24</td>\n",
    "    <td>27</td>\n",
    "   </tr>\n",
    "</table>"
   ]
  },
  {
   "cell_type": "code",
   "execution_count": 77,
   "metadata": {},
   "outputs": [
    {
     "data": {
      "text/plain": [
       "{1: ['Aman', 24],\n",
       " 2: ['Mohit', 25],\n",
       " 3: ['Gauri', 26],\n",
       " 4: ['Imran', 24],\n",
       " 5: ['Roma', 27]}"
      ]
     },
     "execution_count": 77,
     "metadata": {},
     "output_type": "execute_result"
    }
   ],
   "source": [
    "# type your code here \n",
    "\n",
    "students_data = {1:['Aman', 24] , 2:['Mohit',25], 3:['Gauri', 26], 4:['Imran',24], 5:['Roma',27]}\n",
    "\n",
    "students_data"
   ]
  },
  {
   "cell_type": "code",
   "execution_count": 78,
   "metadata": {},
   "outputs": [
    {
     "data": {
      "text/plain": [
       "dict_items([(1, ['Aman', 24]), (2, ['Mohit', 25]), (3, ['Gauri', 26]), (4, ['Imran', 24]), (5, ['Roma', 27])])"
      ]
     },
     "execution_count": 78,
     "metadata": {},
     "output_type": "execute_result"
    }
   ],
   "source": [
    "students_data.items()"
   ]
  },
  {
   "cell_type": "code",
   "execution_count": 79,
   "metadata": {},
   "outputs": [
    {
     "data": {
      "text/plain": [
       "{2: ['Mohit', 25], 4: ['Imran', 24]}"
      ]
     },
     "execution_count": 79,
     "metadata": {},
     "output_type": "execute_result"
    }
   ],
   "source": [
    "{ x:y   for   x,y  in students_data.items()   if x%2==0 }"
   ]
  },
  {
   "cell_type": "markdown",
   "metadata": {
    "id": "5PgCDOAaC5la"
   },
   "source": [
    "<table align=\"left\">\n",
    "    <tr>\n",
    "        <td width=\"6%\">\n",
    "            <img src=\"question_icon.png\">\n",
    "        </td>\n",
    "        <td>\n",
    "            <div align=\"left\", style=\"font-size:120%\">\n",
    "                <font color=\"#21618C\">\n",
    "                    <b>15. Use list comprehension to find even and odd numbers from first 20 whole numbers.</b>\n",
    "                </font>\n",
    "            </div>\n",
    "        </td>\n",
    "    </tr>\n",
    "</table>"
   ]
  },
  {
   "cell_type": "code",
   "execution_count": null,
   "metadata": {
    "id": "5voIjeHeC5la"
   },
   "outputs": [],
   "source": [
    "# type your code here\n",
    "\n",
    "even_num = [ i  for i in range(1,21)    if(i%2==0)]\n",
    "\n",
    "odd_num = [ i for i in range(1,21)    if(i%2!=0)]"
   ]
  },
  {
   "cell_type": "markdown",
   "metadata": {
    "id": "0BHZ0pxgC5la"
   },
   "source": [
    "<table align=\"left\">\n",
    "    <tr>\n",
    "        <td width=\"6%\">\n",
    "            <img src=\"question_icon.png\">\n",
    "        </td>\n",
    "        <td>\n",
    "            <div align=\"left\", style=\"font-size:120%\">\n",
    "                <font color=\"#21618C\">\n",
    "                    <b>16. Use list comprehension to print numbers divisible  by 2 and 3 in between 1 and 100. </b>\n",
    "                </font>\n",
    "            </div>\n",
    "        </td>\n",
    "    </tr>\n",
    "</table>"
   ]
  },
  {
   "cell_type": "code",
   "execution_count": 85,
   "metadata": {
    "id": "fw4SCUuPC5lb"
   },
   "outputs": [
    {
     "data": {
      "text/plain": [
       "[6, 12, 18, 24, 30, 36, 42, 48, 54, 60, 66, 72, 78, 84, 90, 96]"
      ]
     },
     "execution_count": 85,
     "metadata": {},
     "output_type": "execute_result"
    }
   ],
   "source": [
    "[a for a in range(1,101) if a%2==0 and a%3==0]"
   ]
  },
  {
   "cell_type": "code",
   "execution_count": 82,
   "metadata": {},
   "outputs": [
    {
     "data": {
      "text/plain": [
       "[6, 12, 18, 24, 30, 36, 42, 48, 54, 60, 66, 72, 78, 84, 90, 96]"
      ]
     },
     "execution_count": 82,
     "metadata": {},
     "output_type": "execute_result"
    }
   ],
   "source": [
    "[ i for i in range(1,101) if i%2==0 and i%3==0]"
   ]
  },
  {
   "cell_type": "markdown",
   "metadata": {
    "id": "aqifR-f7C5lb"
   },
   "source": [
    "<table align=\"left\">\n",
    "    <tr>\n",
    "        <td width=\"6%\">\n",
    "            <img src=\"question_icon.png\">\n",
    "        </td>\n",
    "        <td>\n",
    "            <div align=\"left\", style=\"font-size:120%\">\n",
    "                <font color=\"#21618C\">\n",
    "                    <b>17. Use list comprehension to create a dictionary such that its keys are numbers from 1 to 10 and values are the corresponding to that key are its cube.</b>\n",
    "                </font>\n",
    "            </div>\n",
    "        </td>\n",
    "    </tr>\n",
    "</table>"
   ]
  },
  {
   "cell_type": "code",
   "execution_count": 86,
   "metadata": {
    "id": "QzBYO1zNC5lb"
   },
   "outputs": [
    {
     "data": {
      "text/plain": [
       "[1, 8, 27, 64, 125, 216, 343, 512, 729, 1000]"
      ]
     },
     "execution_count": 86,
     "metadata": {},
     "output_type": "execute_result"
    }
   ],
   "source": [
    "[i:i**3 for i in range(1,11)]"
   ]
  },
  {
   "cell_type": "markdown",
   "metadata": {
    "id": "aG-ubP4TC5lb"
   },
   "source": [
    "<table align=\"left\">\n",
    "    <tr>\n",
    "        <td width=\"6%\">\n",
    "            <img src=\"question_icon.png\">\n",
    "        </td>\n",
    "        <td>\n",
    "            <div align=\"left\", style=\"font-size:120%\">\n",
    "                <font color=\"#21618C\">\n",
    "                    <b>18. Use list comprehension to extract numbers from a string </b>\n",
    "                </font>\n",
    "            </div>\n",
    "        </td>\n",
    "    </tr>\n",
    "</table>"
   ]
  },
  {
   "cell_type": "code",
   "execution_count": 87,
   "metadata": {
    "id": "dnQ-twynC5lc"
   },
   "outputs": [
    {
     "data": {
      "text/plain": [
       "['3', '4', '2', '3']"
      ]
     },
     "execution_count": 87,
     "metadata": {},
     "output_type": "execute_result"
    }
   ],
   "source": [
    "s = \"abc 34 23 hi\"\n",
    "\n",
    "[i  for i in s   if i.isdigit()]"
   ]
  },
  {
   "cell_type": "markdown",
   "metadata": {
    "id": "rQQhvnfCC5lc"
   },
   "source": [
    "<table align=\"left\">\n",
    "    <tr>\n",
    "        <td width=\"6%\">\n",
    "            <img src=\"question_icon.png\">\n",
    "        </td>\n",
    "        <td>\n",
    "            <div align=\"left\", style=\"font-size:120%\">\n",
    "                <font color=\"#21618C\">\n",
    "                    <b>19. Use list comprehension to print table of 11 to 20 as shown below.</b>\n",
    "                </font>\n",
    "            </div>\n",
    "        </td>\n",
    "    </tr>\n",
    "</table>"
   ]
  },
  {
   "cell_type": "markdown",
   "metadata": {
    "id": "lVcjcaKfC5lc"
   },
   "source": [
    "<table>\n",
    "<tr>\n",
    "    <td>11</td><td>22</td><td>33</td><td>44</td><td>55</td><td>66</td><td>77</td><td>88</td><td>99</td><td>110</td> \n",
    "</tr>\n",
    "    \n",
    "<tr>\n",
    "    <td>12</td><td>24</td><td>36</td><td>48</td><td>60</td><td>72</td><td>84</td><td>96</td><td>108</td><td>120</td> \n",
    "</tr>\n",
    "\n",
    "<tr>\n",
    "    <td>13</td><td>36</td><td>39</td><td>52</td><td>65</td><td>78</td><td>91</td><td>104</td><td>117</td><td>130</td> \n",
    "</tr> \n",
    "\n",
    "<tr>\n",
    "     <td>14</td><td>28</td><td>42</td><td>56</td><td>70</td> <td>84</td><td>98</td><td>112</td><td>126</td><td>140</td> \n",
    "</tr>\n",
    "\n",
    "<tr>\n",
    "     <td>15</td><td>30</td><td>45</td><td>60</td><td>75</td><td>90</td><td>105</td><td>120</td><td>135</td><td>150</td> \n",
    "</tr>\n",
    "\n",
    "<tr>\n",
    "     <td>16</td><td>32</td><td>48</td><td>64</td><td>80</td><td>96</td><td>112</td><td>128</td><td>144</td><td>160</td> \n",
    "</tr> \n",
    "\n",
    "<tr>\n",
    "     <td>17</td><td>34</td><td>51</td><td>68</td><td>85</td><td>102</td><td>119</td><td>136</td><td>153</td><td>170</td> \n",
    "</tr> \n",
    "\n",
    "<tr>\n",
    "     <td>18</td><td>36</td><td>54</td><td>72</td><td>90</td> <td>108</td><td>126</td><td>144</td><td>162</td><td>180</td> \n",
    "</tr>\n",
    "\n",
    "<tr>\n",
    " <td>19</td><td>38</td><td>57</td><td>76</td><td>95</td><td>114</td><td>133</td><td>152</td><td>171</td><td>190</td> \n",
    "</tr>\n",
    "\n",
    "<tr>\n",
    "     <td>20</td><td>40</td><td>60</td><td>80</td><td>100</td><td>120</td><td>140</td><td>160</td><td>180</td><td>200</td> \n",
    "<tr>    \n",
    "    \n",
    "</table>"
   ]
  },
  {
   "cell_type": "code",
   "execution_count": 88,
   "metadata": {
    "id": "3YoZIZtAC5ld"
   },
   "outputs": [
    {
     "data": {
      "text/plain": [
       "[[11, 22, 33, 44, 55, 66, 77, 88, 99, 110],\n",
       " [12, 24, 36, 48, 60, 72, 84, 96, 108, 120],\n",
       " [13, 26, 39, 52, 65, 78, 91, 104, 117, 130],\n",
       " [14, 28, 42, 56, 70, 84, 98, 112, 126, 140],\n",
       " [15, 30, 45, 60, 75, 90, 105, 120, 135, 150],\n",
       " [16, 32, 48, 64, 80, 96, 112, 128, 144, 160],\n",
       " [17, 34, 51, 68, 85, 102, 119, 136, 153, 170],\n",
       " [18, 36, 54, 72, 90, 108, 126, 144, 162, 180],\n",
       " [19, 38, 57, 76, 95, 114, 133, 152, 171, 190],\n",
       " [20, 40, 60, 80, 100, 120, 140, 160, 180, 200]]"
      ]
     },
     "execution_count": 88,
     "metadata": {},
     "output_type": "execute_result"
    }
   ],
   "source": [
    "# type your code here\n",
    "\n",
    "[    [i*j      for j in range(1,11) ]           for i in range(11,21) ]"
   ]
  },
  {
   "cell_type": "markdown",
   "metadata": {
    "id": "XkrLpTrbC5ld"
   },
   "source": [
    "<table align=\"left\">\n",
    "    <tr>\n",
    "        <td width=\"6%\">\n",
    "            <img src=\"question_icon.png\">\n",
    "        </td>\n",
    "        <td>\n",
    "            <div align=\"left\", style=\"font-size:120%\">\n",
    "                <font color=\"#21618C\">\n",
    "                    <b>20. Use list comprehension to find transpose of the matrix given below.</b>\n",
    "                </font>\n",
    "            </div>\n",
    "        </td>\n",
    "    </tr>\n",
    "</table>"
   ]
  },
  {
   "cell_type": "markdown",
   "metadata": {
    "id": "QUMHVUoiC5ld"
   },
   "source": [
    "<table>\n",
    "    <tr>\n",
    "        <td>1</td>\n",
    "        <td>2</td>\n",
    "    </tr>\n",
    "    <tr>\n",
    "        <td>3</td>\n",
    "        <td>4</td>\n",
    "    </tr>\n",
    "    <tr>\n",
    "        <td>5</td>\n",
    "        <td>6</td>\n",
    "    </tr>\n",
    "    <tr>\n",
    "        <td>7</td>\n",
    "        <td>8</td>\n",
    "    </tr>\n",
    "    </table>"
   ]
  },
  {
   "cell_type": "code",
   "execution_count": 1,
   "metadata": {},
   "outputs": [
    {
     "data": {
      "text/plain": [
       "[[1, 3, 5, 7], [2, 4, 6, 8]]"
      ]
     },
     "execution_count": 1,
     "metadata": {},
     "output_type": "execute_result"
    }
   ],
   "source": [
    "# type your code here\n",
    "\n",
    "matrix = [[1, 2], [3,4], [5,6], [7,8]]\n",
    "\n",
    "(matrix)\n",
    " \n",
    "\n",
    "# transpose = [     [row[i] for row in matrix]       for i in range(len(matrix[0]))]\n",
    "\n",
    "transpose = [     [row[i]    for row in matrix  ]       for i in range(2)]\n",
    "\n",
    "transpose\n",
    " \n",
    "\n",
    "# row[i] represents the elements in the i-th column of the original matrix.\n",
    "\n",
    "# for row in matrix iterates through each row of the original matrix.\n",
    "\n",
    "# for i in range(len(matrix[0])) iterates through the indices of the columns in the original matrix."
   ]
  },
  {
   "cell_type": "markdown",
   "metadata": {
    "id": "tqvAkwChC5le"
   },
   "source": [
    "<table align=\"left\">\n",
    "    <tr>\n",
    "        <td width=\"6%\">\n",
    "            <img src=\"question_icon.png\">\n",
    "        </td>\n",
    "        <td>\n",
    "            <div align=\"left\", style=\"font-size:120%\">\n",
    "                <font color=\"#21618C\">\n",
    "                    <b>21.  Assume a mother playing a \"word guessing game  2 times\" with children. She chooses 8 words relating to recent conversation  and write sets of clues to help students. Condition that children should not use same word again. children get 5 chances to guess the four letters word given below.\n",
    " \n",
    " Create a word set=[\"milk\", \"race\", \"rice\", \"race\", \"hide\", \"tree\",\"jump\",\"bike\"] \n",
    " \n",
    " like and take user input display like \"Let's play a word guessing game . The word has 4 letters in it. You get 5 guesses. Guess a letter \" if you guess correct 2 time it will display. If children found answer with 2 option display wow\n",
    " \n",
    " Great Guess! for 1st time\n",
    " \n",
    " Great Guess! for 2nd time\n",
    " \n",
    " Thanks for playing! you won!\n",
    " \n",
    " \n",
    " Exiting\n",
    " \n",
    " If your guess wrongly your code will ask 5 times to guess the word as shown in the below example\n",
    " \n",
    " Sorry, try again. was\n",
    " \n",
    " Sorry, try again. the\n",
    " \n",
    " Sorry, try again. are\n",
    " \n",
    " Sorry, try again. the\n",
    " \n",
    " Sorry, try again. are\n",
    " \n",
    " if you did not find 2 option it return you lose.\n",
    " \n",
    " \n",
    " make sure that program takes only smaller case values..</b>\n",
    "                </font>\n",
    "            </div>\n",
    "        </td>\n",
    "    </tr>\n",
    "</table>"
   ]
  },
  {
   "cell_type": "code",
   "execution_count": null,
   "metadata": {},
   "outputs": [
    {
     "name": "stdout",
     "output_type": "stream",
     "text": [
      "Guess a word: 8\n",
      "Wrong guess\n"
     ]
    }
   ],
   "source": [
    "# Define the list of words for the game.\n",
    "\n",
    "set_of_words = [\"milk\", \"race\", \"rice\", \"race\", \"hide\", \"tree\", \"jump\", \"bike\"]\n",
    "\n",
    " \n",
    "\n",
    "# Initialize a variable to keep track of the correct guesses.\n",
    "\n",
    "count = 0\n",
    "\n",
    " \n",
    "\n",
    "# Start a loop that allows the player 5 guesses.\n",
    "\n",
    "for i in range(5):\n",
    "\n",
    "    # Ask the player for a word guess, and convert it to lowercase for case-insensitivity.\n",
    "\n",
    "    word = input(\"Guess a word: \").lower()\n",
    "\n",
    " \n",
    "\n",
    "    # Check if the guessed word is in the list of words.\n",
    "\n",
    "    if word in set_of_words:\n",
    "\n",
    "        print(\"Great Guess! for\", count + 1, 'time')\n",
    "\n",
    "        count += 1\n",
    "\n",
    "    else:\n",
    "\n",
    "        print(\"Wrong guess\")\n",
    "\n",
    "# Check if the player has made 3 correct guesses (count == 2).\n",
    "\n",
    "    if count == 2:\n",
    "\n",
    "        print('Thank you for playing! You won!')\n",
    "\n",
    "        break\n",
    "\n",
    " \n",
    "\n",
    "    # Check if it's the second iteration (i == 1) and the player has already won (count == 2).\n",
    "\n",
    "    if i == 1 and count == 2:\n",
    "\n",
    "        print(\"wow\")\n",
    "\n",
    " \n",
    "\n",
    "    # Check if it's the fourth iteration (i == 3) and the player has not guessed correctly yet (count == 0).\n",
    "\n",
    "    if i == 3 and count == 0:\n",
    "\n",
    "        print('You lost the game')\n",
    "\n",
    "        break\n",
    "\n",
    " \n",
    "\n",
    "# Check if the player has made no correct guesses (count == 0) and it's the last iteration (i == 4).\n",
    "\n",
    "if count == 0 and i == 4:\n",
    "\n",
    "    print('You lost the game')\n",
    "        "
   ]
  }
 ],
 "metadata": {
  "colab": {
   "collapsed_sections": [],
   "name": "Python - In-Class Lab Exercise (Week 3)- Questions.ipynb",
   "provenance": []
  },
  "kernelspec": {
   "display_name": "Python 3 (ipykernel)",
   "language": "python",
   "name": "python3"
  },
  "language_info": {
   "codemirror_mode": {
    "name": "ipython",
    "version": 3
   },
   "file_extension": ".py",
   "mimetype": "text/x-python",
   "name": "python",
   "nbconvert_exporter": "python",
   "pygments_lexer": "ipython3",
   "version": "3.11.7"
  }
 },
 "nbformat": 4,
 "nbformat_minor": 1
}
