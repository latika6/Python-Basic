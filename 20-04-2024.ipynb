{
 "cells": [
  {
   "cell_type": "code",
   "execution_count": 1,
   "metadata": {},
   "outputs": [
    {
     "name": "stdout",
     "output_type": "stream",
     "text": [
      "56.79\n"
     ]
    }
   ],
   "source": [
    "#display 2 float numbers\n",
    "num = 56.789012\n",
    "new_num =float(round(num,2))\n",
    "print(new_num)"
   ]
  },
  {
   "cell_type": "code",
   "execution_count": 3,
   "metadata": {},
   "outputs": [
    {
     "name": "stdout",
     "output_type": "stream",
     "text": [
      "1\n",
      "2\n",
      "3\n",
      "4\n",
      "5\n",
      "6\n",
      "10\n",
      "12\n",
      "15\n",
      "20\n",
      "30\n",
      "60\n"
     ]
    }
   ],
   "source": [
    "#print all factors of number of a given number\n",
    "n = 60\n",
    "for i in range(1, n+1):\n",
    "    if n%i==0:\n",
    "        print(i)"
   ]
  },
  {
   "cell_type": "code",
   "execution_count": 7,
   "metadata": {},
   "outputs": [
    {
     "name": "stdout",
     "output_type": "stream",
     "text": [
      "Priya,\n",
      "Rhea,\n",
      "Latika\n"
     ]
    }
   ],
   "source": [
    "# accept only three words from the strings\n",
    "string_user= \"Priya, Rhea, Latika\"\n",
    "sep = string_user.split()\n",
    "name1 =sep[0]\n",
    "name2 =sep[1]\n",
    "name3 =sep[2]\n",
    "\n",
    "print(name1)\n",
    "print(name2)\n",
    "print(name3)"
   ]
  },
  {
   "cell_type": "code",
   "execution_count": 13,
   "metadata": {},
   "outputs": [
    {
     "name": "stdout",
     "output_type": "stream",
     "text": [
      "I have 200 dollars so I can buy 4 footaballs for 2 dollars.\n"
     ]
    }
   ],
   "source": [
    "#Format variables using a string.format() method\n",
    "totalmoney = 200\n",
    "quan = 4\n",
    "price = 2\n",
    "\n",
    "print(\"I have {} dollars so I can buy {} footaballs for {} dollars.\".format(totalmoney,quan,price))"
   ]
  },
  {
   "cell_type": "code",
   "execution_count": null,
   "metadata": {},
   "outputs": [],
   "source": [
    "# Read line number 4 from the following file\n",
    "with open(\"test file.txt\",\"r\") as fp: \n",
    "    lines=fp.readlines() \n",
    "    print(lines[3])"
   ]
  },
  {
   "cell_type": "code",
   "execution_count": 17,
   "metadata": {},
   "outputs": [
    {
     "name": "stdout",
     "output_type": "stream",
     "text": [
      "hey you...denominater cant be zero\n"
     ]
    }
   ],
   "source": [
    "x=9\n",
    "y=0\n",
    "try: \n",
    "    result=x/y\n",
    "except ZeroDivisionError:\n",
    "    print(\"hey you...denominater cant be zero\")\n",
    "else: \n",
    "    print(result)"
   ]
  }
 ],
 "metadata": {
  "kernelspec": {
   "display_name": "base",
   "language": "python",
   "name": "python3"
  },
  "language_info": {
   "codemirror_mode": {
    "name": "ipython",
    "version": 3
   },
   "file_extension": ".py",
   "mimetype": "text/x-python",
   "name": "python",
   "nbconvert_exporter": "python",
   "pygments_lexer": "ipython3",
   "version": "3.11.7"
  }
 },
 "nbformat": 4,
 "nbformat_minor": 2
}
