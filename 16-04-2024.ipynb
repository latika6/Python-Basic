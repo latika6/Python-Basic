{
 "cells": [
  {
   "cell_type": "code",
   "execution_count": 15,
   "metadata": {},
   "outputs": [
    {
     "name": "stdout",
     "output_type": "stream",
     "text": [
      "5 10\n",
      "10 5\n"
     ]
    }
   ],
   "source": [
    "#1 swap the number without using in third variable\n",
    "a = 5\n",
    "b = 10\n",
    "print(a,b)\n",
    "\n",
    "a = a + b  # a = 15\n",
    "b = a - b  # b = 5\n",
    "a = a - b  # a = 10\n",
    "\n",
    "print(a,b)"
   ]
  },
  {
   "cell_type": "code",
   "execution_count": 18,
   "metadata": {},
   "outputs": [
    {
     "name": "stdout",
     "output_type": "stream",
     "text": [
      "4 3 2 1\n"
     ]
    }
   ],
   "source": [
    "#2 extract each digit from the integer on reverse order\n",
    "n = 1234\n",
    "n_str = str(n)\n",
    "y = n_str[::-1]\n",
    "k =\" \".join(y)\n",
    "print(k)"
   ]
  },
  {
   "cell_type": "code",
   "execution_count": 25,
   "metadata": {},
   "outputs": [
    {
     "name": "stdout",
     "output_type": "stream",
     "text": [
      "10\n"
     ]
    }
   ],
   "source": [
    "#3 program that will give you sum of three digits\n",
    "n = 325\n",
    "d1 = n//100\n",
    "d2 = (n//10)%10\n",
    "d3 = n%10\n",
    "\n",
    "sum = d1 + d2 + d3\n",
    "print(sum)"
   ]
  },
  {
   "cell_type": "code",
   "execution_count": 34,
   "metadata": {},
   "outputs": [
    {
     "name": "stdout",
     "output_type": "stream",
     "text": [
      "4 5 6 7\n",
      "7 6 5 4\n"
     ]
    }
   ],
   "source": [
    "#4 reverse four digit number and check the reverse\n",
    "n = 4567\n",
    "d1 = n//1000\n",
    "d2 = (n//100)%10\n",
    "d3 = (n//10)%10\n",
    "d4 =(n%10)\n",
    "n_str = str(n)\n",
    "y = n_str[::-1]\n",
    "k = \" \".join(y)\n",
    "print(d1,d2,d3,d4)\n",
    "print(k)\n"
   ]
  },
  {
   "cell_type": "code",
   "execution_count": 46,
   "metadata": {},
   "outputs": [
    {
     "name": "stdout",
     "output_type": "stream",
     "text": [
      "5.0\n"
     ]
    }
   ],
   "source": [
    "#5 find the euclidean distance or pythagorean distance from the two coordinates\n",
    "x1, x2 = 1, 5\n",
    "y1, y2 = 3, 6\n",
    "import math\n",
    "euclidean_distance = math.sqrt((x2 - x1)**2 + (y2 - y1)**2)\n",
    "print(euclidean_distance)\n"
   ]
  },
  {
   "cell_type": "code",
   "execution_count": 2,
   "metadata": {},
   "outputs": [
    {
     "name": "stdout",
     "output_type": "stream",
     "text": [
      "7\n",
      "3\n"
     ]
    }
   ],
   "source": [
    "# Multiple Outputs\n",
    "# We can add as many print statements as we want.\n",
    "# Write a program which does the following\n",
    "\n",
    "# Add a print statement and output the sum of 3 + 4\n",
    "# Add another print statement and output the sum of 2 + 1.\n",
    "# Note - Notice that the output is printed on separate lines\n",
    "\n",
    "# Update the '_' in the code below to output the following \n",
    "# 7\n",
    "# 3\n",
    "print(3 + 4)\n",
    "print(2 + 1)"
   ]
  },
  {
   "cell_type": "code",
   "execution_count": 3,
   "metadata": {},
   "outputs": [
    {
     "name": "stdout",
     "output_type": "stream",
     "text": [
      "143\n",
      "48\n"
     ]
    }
   ],
   "source": [
    "print(11 * 13)          # Area of the rectangle\n",
    "print(2 * (11 + 13 ))    # Perimeter of the rectangle"
   ]
  },
  {
   "cell_type": "code",
   "execution_count": 4,
   "metadata": {},
   "outputs": [
    {
     "name": "stdout",
     "output_type": "stream",
     "text": [
      "3420\n"
     ]
    }
   ],
   "source": [
    "# Update the code below this line to solve the problem\n",
    "length = 45\n",
    "width = 76\n",
    "\n",
    "area = length * width\n",
    "\n",
    "print(area)"
   ]
  },
  {
   "cell_type": "code",
   "execution_count": 5,
   "metadata": {},
   "outputs": [
    {
     "name": "stdout",
     "output_type": "stream",
     "text": [
      "248.71940000000004\n"
     ]
    }
   ],
   "source": [
    "# Update your code below this line\n",
    "pi = 3.14\n",
    "radius = 8.9\n",
    "\n",
    "area = pi * radius * radius\n",
    "\n",
    "print(area)"
   ]
  },
  {
   "cell_type": "code",
   "execution_count": 6,
   "metadata": {},
   "outputs": [
    {
     "name": "stdout",
     "output_type": "stream",
     "text": [
      "27\n"
     ]
    }
   ],
   "source": [
    "# sum of array\n",
    "\n",
    "arr = [1, 3, 4, 7, 12]\n",
    "ans = sum(arr)\n",
    "print(ans)"
   ]
  }
 ],
 "metadata": {
  "kernelspec": {
   "display_name": "base",
   "language": "python",
   "name": "python3"
  },
  "language_info": {
   "codemirror_mode": {
    "name": "ipython",
    "version": 3
   },
   "file_extension": ".py",
   "mimetype": "text/x-python",
   "name": "python",
   "nbconvert_exporter": "python",
   "pygments_lexer": "ipython3",
   "version": "3.12.1"
  }
 },
 "nbformat": 4,
 "nbformat_minor": 2
}
