{
 "cells": [
  {
   "cell_type": "code",
   "execution_count": 1,
   "metadata": {},
   "outputs": [],
   "source": [
    "# Instructions\n",
    "# 💪 This is a difficult challenge! 💪\n",
    "# Write a program that works out whether if a given year is a leap year. A normal year has 365 days, leap years have 366, with an extra day in February. The reason why we have leap years is really fascinating, this video does it more justice.\n",
    "\n",
    "# This is how you work out whether if a particular year is a leap year.\n",
    "\n",
    "# on every year that is divisible by 4 with no remainder\n",
    "\n",
    "# except every year that is evenly divisible by 100 with no remainder\n",
    "\n",
    "# unless the year is also divisible by 400 with no remainder\n",
    "\n",
    "# If english is not your first language or if the above logic is confusing, try using this flow chart .\n",
    "\n",
    "# e.g. The year 2000:\n",
    "\n",
    "# 2000 ÷ 4 = 500 (Leap)\n",
    "\n",
    "# 2000 ÷ 100 = 20 (Not Leap)\n",
    "\n",
    "# 2000 ÷ 400 = 5 (Leap!)\n",
    "\n",
    "# So the year 2000 is a leap year.\n",
    "\n",
    "# But the year 2100 is not a leap year because:\n",
    "\n",
    "# 2100 ÷ 4 = 525 (Leap)\n",
    "\n",
    "# 2100 ÷ 100 = 21 (Not Leap)\n",
    "\n",
    "# 2100 ÷ 400 = 5.25 (Not Leap)\n",
    "\n",
    "# Warning your output should match the Example Output format exactly, including spelling an punctuation.\n",
    "\n",
    "# Example Input 1\n",
    "# 2400\n",
    "# Example Output 1\n",
    "# Leap year\n",
    "# Example Input 2\n",
    "# 1989\n",
    "# Example Output 2\n",
    "# Not leap year"
   ]
  },
  {
   "cell_type": "code",
   "execution_count": 2,
   "metadata": {},
   "outputs": [],
   "source": [
    "# Which year do you want to check?\n",
    "year = int(input())\n",
    "# 🚨 Don't change the code above 👆\n",
    "\n",
    "# Write your code below this line 👇\n",
    "if year%4 == 0:\n",
    "  if year%100 == 0:\n",
    "    if year%400 == 0:\n",
    "      print(\"leap year\")\n",
    "    else:\n",
    "      print(\"Not leap year\")\n",
    "  else:\n",
    "    print(\"Leap year\")\n",
    "else:\n",
    "  print(\"Not leap year\")"
   ]
  },
  {
   "cell_type": "code",
   "execution_count": null,
   "metadata": {},
   "outputs": [],
   "source": []
  }
 ],
 "metadata": {
  "kernelspec": {
   "display_name": "base",
   "language": "python",
   "name": "python3"
  },
  "language_info": {
   "codemirror_mode": {
    "name": "ipython",
    "version": 3
   },
   "file_extension": ".py",
   "mimetype": "text/x-python",
   "name": "python",
   "nbconvert_exporter": "python",
   "pygments_lexer": "ipython3",
   "version": "3.11.7"
  }
 },
 "nbformat": 4,
 "nbformat_minor": 2
}
