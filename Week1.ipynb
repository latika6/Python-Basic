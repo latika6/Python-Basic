{
 "cells": [
  {
   "cell_type": "markdown",
   "metadata": {
    "id": "MxMm-12-Hq75"
   },
   "source": [
    "<table align=\"left\" width=100%>\n",
    "    <tr>\n",
    "        <td width=\"20%\">\n",
    "            <img src=\"GL-2.png\">\n",
    "        </td>\n",
    "        <td>\n",
    "            <div align=\"center\">\n",
    "                <font color=\"#21618C\" size=8px>\n",
    "                  <b> In-class Lab <br> (Week1) </b>\n",
    "                </font>\n",
    "            </div>\n",
    "        </td>\n",
    "    </tr>\n",
    "</table>"
   ]
  },
  {
   "cell_type": "markdown",
   "metadata": {
    "id": "zE66hRPFHq76"
   },
   "source": [
    "##  Table of Content\n",
    "\n",
    "1. **[Pseudo Codes](#pseudo)**\n",
    "2. **[String](#string)**\n",
    "3. **[List](#list)**\n",
    "4. **[Tuple](#tuple)**\n",
    "5. **[Set](#set)**\n",
    "6. **[Dictionary](#dict)**\n",
    "7. **[Conditional Statements](#cond)**\n",
    "\n"
   ]
  },
  {
   "cell_type": "markdown",
   "metadata": {
    "id": "7vXnI5roHq76"
   },
   "source": [
    "### Let's begin with some hands-on practice exercises"
   ]
  },
  {
   "cell_type": "markdown",
   "metadata": {},
   "source": [
    "<a id=\"pseudo\"> </a>\n",
    "## 1. Pseudo Codes"
   ]
  },
  {
   "cell_type": "markdown",
   "metadata": {},
   "source": [
    "<table align=\"left\">\n",
    "    <tr>\n",
    "        <td width=\"6%\">\n",
    "            <img src=\"question_icon.png\">\n",
    "        </td>\n",
    "        <td>\n",
    "            <div align=\"left\", style=\"font-size:120%\">\n",
    "                <font color=\"#21618C\">\n",
    "                    <b>1. Write a pseudo code to print table of 5 using 'for' loop.</b>\n",
    "                </font>\n",
    "            </div>\n",
    "        </td>\n",
    "    </tr>\n",
    "</table>"
   ]
  },
  {
   "cell_type": "code",
   "execution_count": null,
   "metadata": {},
   "outputs": [],
   "source": [
    "# pseudo code \n",
    " \n",
    "\n",
    "set total = 0 \n",
    "\n",
    "for i in 1 to 10,\n",
    "\n",
    " do total = total + 5 \n",
    "\n",
    " print total\n",
    "\n",
    "#expected ouptut 5, 10, 15, 20, 25, 30\n",
    "\n",
    "# ** ADDITIONAL CODE **#\n",
    "\n",
    "# Type your code here\n",
    "\n",
    "# The for loop is used to repeat a section of code known number of times.\n",
    "\n",
    " \n",
    "\n",
    "total = 0\n",
    "\n",
    "for i in range(1,11):\n",
    "\n",
    "    total = total + 5\n",
    "\n",
    "    print(total)\n",
    "\n",
    " \n",
    "\n",
    "    \n",
    "\n",
    "# for i in range(1,11)     >>>>>   for i in [1,2,3,4,5,6,7,8,9,10]\n",
    "\n",
    "#    total = total + 5     >>>>>   when i = 1  , total = 0   , total = total + 5 , total  = 0+ 5 , total = 5\n",
    "\n",
    "#                          >>>>>   when i = 2  , total = 5   , total = total + 5 , total  = 5+ 5 , total = 10\n",
    "\n",
    "#                          >>>>>   when i = 3  , total = 10   , total = total + 5 , total  = 10+ 5 , total = 15... and so on\n",
    "    \n"
   ]
  },
  {
   "cell_type": "code",
   "execution_count": 14,
   "metadata": {},
   "outputs": [
    {
     "name": "stdout",
     "output_type": "stream",
     "text": [
      "5\n",
      "10\n",
      "15\n",
      "20\n",
      "25\n",
      "30\n",
      "35\n",
      "40\n",
      "45\n",
      "50\n"
     ]
    }
   ],
   "source": [
    "total = 0\n",
    "\n",
    "for i in range(1,11):\n",
    "\n",
    "    total = total + 5\n",
    "\n",
    "    print(total)"
   ]
  },
  {
   "cell_type": "code",
   "execution_count": 15,
   "metadata": {},
   "outputs": [
    {
     "name": "stdout",
     "output_type": "stream",
     "text": [
      "5\n",
      "10\n",
      "15\n",
      "20\n",
      "25\n",
      "30\n",
      "35\n",
      "40\n",
      "45\n",
      "50\n"
     ]
    }
   ],
   "source": [
    "for i in range(1,11):\n",
    "\n",
    "    print(5 * i)"
   ]
  },
  {
   "cell_type": "markdown",
   "metadata": {},
   "source": [
    "<table align=\"left\">\n",
    "    <tr>\n",
    "        <td width=\"6%\">\n",
    "            <img src=\"question_icon.png\">\n",
    "        </td>\n",
    "        <td>\n",
    "            <div align=\"left\", style=\"font-size:120%\">\n",
    "                <font color=\"#21618C\">\n",
    "                    <b>2. Write a pseudo code for generating a fibonacci series starting with 0 and 1 for 10 values using while loop. </b>\n",
    "                </font>\n",
    "            </div>\n",
    "        </td>\n",
    "    </tr>\n",
    "</table>"
   ]
  },
  {
   "cell_type": "code",
   "execution_count": null,
   "metadata": {},
   "outputs": [],
   "source": [
    "# Type your code here\n",
    "\n",
    "# Pseudo code\n",
    "\n",
    " \n",
    "\n",
    "Set variables:\n",
    "\n",
    "    a = 0  # Initialize the first Fibonacci number\n",
    "\n",
    "    b = 1  # Initialize the second Fibonacci number\n",
    "\n",
    "    count = 0  # Initialize a counter to keep track of the number of values generated\n",
    "\n",
    " \n",
    "\n",
    "While count < 10:\n",
    "\n",
    "    # Print the current Fibonacci number\n",
    "\n",
    "    Print a\n",
    "\n",
    " \n",
    "\n",
    "    # Calculate the next Fibonacci number\n",
    "\n",
    "    next_fibonacci = a + b\n",
    "\n",
    " \n",
    "\n",
    "    # Update the values of a and b for the next iteration\n",
    "\n",
    "    a = b\n",
    "\n",
    "    b = next_fibonacci\n",
    "\n",
    " \n",
    "\n",
    "    # Increment the counter\n",
    "\n",
    "    count = count + 1\n",
    "\n",
    "End While"
   ]
  },
  {
   "cell_type": "code",
   "execution_count": 16,
   "metadata": {},
   "outputs": [
    {
     "name": "stdout",
     "output_type": "stream",
     "text": [
      "0\n",
      "1\n",
      "1\n",
      "2\n",
      "3\n",
      "5\n",
      "8\n",
      "13\n",
      "21\n",
      "34\n"
     ]
    }
   ],
   "source": [
    "# Initialize the first two Fibonacci numbers\n",
    "\n",
    "a, b = 0, 1\n",
    "\n",
    " \n",
    "\n",
    "# Initialize a counter to keep track of the number of values generated\n",
    "\n",
    "count = 0\n",
    "\n",
    " \n",
    "\n",
    "# Define the number of values to generate\n",
    "\n",
    "n = 10\n",
    "\n",
    " \n",
    "\n",
    "# Use a while loop to generate the Fibonacci series\n",
    "\n",
    "while count < n:\n",
    "\n",
    "    # Print the current Fibonacci number\n",
    "\n",
    "    print(a)\n",
    "\n",
    " \n",
    "\n",
    "    # Calculate the next Fibonacci number\n",
    "\n",
    "    next_fibonacci = a + b\n",
    "\n",
    " \n",
    "\n",
    "    # Update the values of a and b for the next iteration\n",
    "\n",
    "    a = b\n",
    "\n",
    "    b = next_fibonacci\n",
    "\n",
    " \n",
    "\n",
    "    # Increment the counter\n",
    "\n",
    "    count += 1"
   ]
  },
  {
   "cell_type": "markdown",
   "metadata": {},
   "source": [
    "<table align=\"left\">\n",
    "    <tr>\n",
    "        <td width=\"6%\">\n",
    "            <img src=\"question_icon.png\">\n",
    "        </td>\n",
    "        <td>\n",
    "            <div align=\"left\", style=\"font-size:120%\">\n",
    "                <font color=\"#21618C\">\n",
    "                    <b>3. Write a pseudo code to check whether a number is divisible by 7 or not using if else statement. </b>\n",
    "                </font>\n",
    "            </div>\n",
    "        </td>\n",
    "    </tr>\n",
    "</table>"
   ]
  },
  {
   "cell_type": "code",
   "execution_count": null,
   "metadata": {},
   "outputs": [],
   "source": [
    "num = number entered by the user\n",
    "\n",
    "if num modulo 7 == 0\n",
    "\n",
    "    print the number is divisible by 7\n",
    "\n",
    "else print the number is not divisible by 7"
   ]
  },
  {
   "cell_type": "code",
   "execution_count": 20,
   "metadata": {},
   "outputs": [
    {
     "name": "stdout",
     "output_type": "stream",
     "text": [
      "The number is not divisble by 7\n"
     ]
    }
   ],
   "source": [
    "i==14\n",
    "if i%7 ==0:\n",
    "    print(\"The number is divisble by 7\")\n",
    "else:\n",
    "    print(\"The number is not divisble by 7\")\n"
   ]
  },
  {
   "cell_type": "markdown",
   "metadata": {},
   "source": [
    "<table align=\"left\">\n",
    "    <tr>\n",
    "        <td width=\"6%\">\n",
    "            <img src=\"question_icon.png\">\n",
    "        </td>\n",
    "        <td>\n",
    "            <div align=\"left\", style=\"font-size:120%\">\n",
    "                <font color=\"#21618C\">\n",
    "                    <b>4. Write a pseudo code to find factorial of a number using nested if-else statement. </b>\n",
    "                </font>\n",
    "            </div>\n",
    "        </td>\n",
    "    </tr>\n",
    "</table>"
   ]
  },
  {
   "cell_type": "code",
   "execution_count": 21,
   "metadata": {},
   "outputs": [
    {
     "name": "stdout",
     "output_type": "stream",
     "text": [
      "Enter a number: 6\n",
      "The factorial of 6 is 720\n"
     ]
    }
   ],
   "source": [
    "# Get the number from the user\n",
    "\n",
    "number = int(input(\"Enter a number: \"))\n",
    "\n",
    " \n",
    "\n",
    "# Initialize the factorial to 1\n",
    "\n",
    "fact = 1\n",
    "\n",
    " \n",
    "\n",
    "# Check if the number is negative\n",
    "\n",
    "if number < 0:\n",
    "\n",
    "    print(\"Factorial does not exist for negative numbers.\")\n",
    "\n",
    "elif number == 0:\n",
    "\n",
    "    print(\"The factorial of 0 is 1.\")\n",
    "\n",
    "else:\n",
    "\n",
    "    # Calculate the factorial using a for loop\n",
    "\n",
    "    for i in range(1, number + 1):\n",
    "\n",
    "        fact *= i\n",
    "\n",
    " \n",
    "\n",
    "    # Print the result\n",
    "\n",
    "    print(f\"The factorial of {number} is {fact}\")"
   ]
  },
  {
   "cell_type": "markdown",
   "metadata": {},
   "source": [
    "<table align=\"left\">\n",
    "    <tr>\n",
    "        <td width=\"6%\">\n",
    "            <img src=\"question_icon.png\">\n",
    "        </td>\n",
    "        <td>\n",
    "            <div align=\"left\", style=\"font-size:120%\">\n",
    "                <font color=\"#21618C\">\n",
    "                    <b>5. Write a pseudo to know whether a number is prime or not using for and if else statement.</b>\n",
    "                </font>\n",
    "            </div>\n",
    "        </td>\n",
    "    </tr>\n",
    "</table>"
   ]
  },
  {
   "cell_type": "raw",
   "metadata": {},
   "source": [
    "1. Get the number from the user and store it in a variable 'num'.\n",
    "\n",
    "2. Initialize a boolean variable 'is_prime' to True.\n",
    "\n",
    "3. If 'num' is less than or equal to 1, set 'is_prime' to False.\n",
    "\n",
    "4. If 'num' is greater than 1, do the following:\n",
    "\n",
    "   4.1. Start a 'for' loop with a loop variable 'i' from 2 to the  'num' (inclusive).\n",
    "\n",
    "   4.2. In each iteration, check if 'num' is divisible by 'i' (i.e., 'num' % 'i' == 0).\n",
    "\n",
    "   4.3. If 'num' is divisible by 'i', set 'is_prime' to False and break out of the loop.\n",
    "\n",
    "5. If 'is_prime' is True, print \"The number is prime.\"\n",
    "\n",
    "6. If 'is_prime' is False, print \"The number is not prime.\""
   ]
  },
  {
   "cell_type": "markdown",
   "metadata": {},
   "source": [
    "<table align=\"left\">\n",
    "    <tr>\n",
    "        <td width=\"6%\">\n",
    "            <img src=\"question_icon.png\">\n",
    "        </td>\n",
    "        <td>\n",
    "            <div align=\"left\", style=\"font-size:120%\">\n",
    "                <font color=\"#21618C\">\n",
    "                    <b>6. Write a pseudo code to know whether a number is greater than the other using 'if' statement. </b>\n",
    "                </font>\n",
    "            </div>\n",
    "        </td>\n",
    "    </tr>\n",
    "</table>"
   ]
  },
  {
   "cell_type": "raw",
   "metadata": {},
   "source": [
    "a =  take user input for first number\n",
    "\n",
    "b =  take user input for second number\n",
    "\n",
    "check if a > b then\n",
    "\n",
    "  print(\"a is greater than b\")\n",
    "\n",
    "else \n",
    "\n",
    "  print(\"a is less than b\")"
   ]
  },
  {
   "cell_type": "code",
   "execution_count": 25,
   "metadata": {},
   "outputs": [
    {
     "name": "stdout",
     "output_type": "stream",
     "text": [
      "the value of a2\n",
      "the value of b3\n",
      "a is less then b\n"
     ]
    }
   ],
   "source": [
    "a ==input(\"the value of a\")\n",
    "b ==input(\"the value of b\")\n",
    "if a>b:\n",
    "    print(\"a is greater than b\")\n",
    "else:\n",
    "    print(\"a is less then b\")"
   ]
  },
  {
   "cell_type": "markdown",
   "metadata": {
    "id": "GhwNCvTmf99O"
   },
   "source": [
    "<a id=\"string\"></a>\n",
    "## 2. String Operations"
   ]
  },
  {
   "cell_type": "markdown",
   "metadata": {
    "id": "WWphSfFZjAVY"
   },
   "source": [
    "<table align=\"left\">\n",
    "    <tr>\n",
    "        <td width=\"6%\">\n",
    "            <img src=\"question_icon.png\">\n",
    "        </td>\n",
    "        <td>\n",
    "            <div align=\"left\", style=\"font-size:120%\">\n",
    "                <font color=\"#21618C\">\n",
    "                    <b>7. Create a string with the name 'country' and 'India' as its element. Perform the following on it:\n",
    "                    <ol type = \"1\">\n",
    "                        <li>Find its length. </li>\n",
    "                        <li>Extract it first two letters. </li>\n",
    "                        </ol></b>\n",
    "                </font>\n",
    "            </div>\n",
    "        </td>\n",
    "    </tr>\n",
    "</table>"
   ]
  },
  {
   "cell_type": "code",
   "execution_count": 35,
   "metadata": {
    "id": "yn4OaCmVjAVZ"
   },
   "outputs": [
    {
     "name": "stdout",
     "output_type": "stream",
     "text": [
      "5\n",
      "In\n"
     ]
    }
   ],
   "source": [
    "country =\"India\"\n",
    "print(len(country))\n",
    "print(country[:2])"
   ]
  },
  {
   "cell_type": "markdown",
   "metadata": {
    "id": "uNrOdvg8f99U"
   },
   "source": [
    "<table align=\"left\">\n",
    "    <tr>\n",
    "        <td width=\"6%\">\n",
    "            <img src=\"question_icon.png\">\n",
    "        </td>\n",
    "        <td>\n",
    "            <div align=\"left\", style=\"font-size:120%\">\n",
    "                <font color=\"#21618C\">\n",
    "                    <b>8. Given the string 'Today is a sunny day.' \n",
    "                        <ol > <li>  Write a code to get 'Today'  and 'sunny'. </li>\n",
    "                             <li>  Obtain the last two letters. </li>\n",
    "                             <li>  Write the statement backwards.</li>\n",
    "                        </ol> </b>\n",
    "                </font>\n",
    "            </div>\n",
    "        </td>\n",
    "    </tr>\n",
    "</table>"
   ]
  },
  {
   "cell_type": "code",
   "execution_count": 54,
   "metadata": {
    "id": "26parQocjAVc"
   },
   "outputs": [
    {
     "name": "stdout",
     "output_type": "stream",
     "text": [
      "Today\n",
      "sunny\n"
     ]
    },
    {
     "data": {
      "text/plain": [
       "'yad ynnus a si yadoT'"
      ]
     },
     "execution_count": 54,
     "metadata": {},
     "output_type": "execute_result"
    }
   ],
   "source": [
    "# type your code here\n",
    "\n",
    "# 1. Write a code to get 'Today' and 'sunny'.\n",
    "\n",
    "statement  = 'Today is a sunny day'\n",
    "\n",
    " \n",
    "\n",
    "# to print 'Today'\n",
    "\n",
    "print(statement[0:5])\n",
    "\n",
    "\n",
    "# to print 'sunny'\n",
    "\n",
    "print(statement[11:16])\n",
    "\n",
    "# 2. Obtain the last two letters.\n",
    "\n",
    "statement[-2:]\n",
    "\n",
    "# 3. Write the statement backwards.\n",
    "\n",
    "statement[::-1]"
   ]
  },
  {
   "cell_type": "code",
   "execution_count": 55,
   "metadata": {},
   "outputs": [
    {
     "name": "stdout",
     "output_type": "stream",
     "text": [
      "Today sunny\n",
      "ay\n",
      "yad ynnus a si yadoT\n"
     ]
    }
   ],
   "source": [
    "x=\"Today is a sunny day\"\n",
    "\n",
    "print(x[0:5],x[11:16])\n",
    "\n",
    "print(x[-2:])\n",
    "\n",
    "print(x[::-1])"
   ]
  },
  {
   "cell_type": "code",
   "execution_count": 57,
   "metadata": {},
   "outputs": [
    {
     "name": "stdout",
     "output_type": "stream",
     "text": [
      "ay\n"
     ]
    }
   ],
   "source": [
    "statement=\"Today is a sunny day\"\n",
    "print(statement[-2:])"
   ]
  },
  {
   "cell_type": "code",
   "execution_count": 67,
   "metadata": {},
   "outputs": [
    {
     "name": "stdout",
     "output_type": "stream",
     "text": [
      "['Python', 'is', 'a', 'nice', 'language']\n",
      "egaugnal ecin a si nohtyP\n"
     ]
    }
   ],
   "source": [
    "s ='Python is a nice language'\n",
    "\n",
    "L= s.split()   #shift TAB\n",
    "\n",
    "print(L)\n",
    "\n",
    "print(s[::-1])  #reversing"
   ]
  },
  {
   "cell_type": "markdown",
   "metadata": {
    "id": "xozR0EP9Hq77"
   },
   "source": [
    "<a id=\"list\"> </a>\n",
    "## 3. List"
   ]
  },
  {
   "cell_type": "markdown",
   "metadata": {
    "id": "h-ajPgCZHq78"
   },
   "source": [
    "<table align=\"left\">\n",
    "    <tr>\n",
    "        <td width=\"6%\">\n",
    "            <img src=\"question_icon.png\">\n",
    "        </td>\n",
    "        <td>\n",
    "            <div align=\"left\", style=\"font-size:120%\">\n",
    "                <font color=\"#21618C\">\n",
    "                    <b>9. Write a program to perform following list operations on the list given below:<br><br>\n",
    "                        a. Check the length of mix_list_1<br>\n",
    "                        b. Check the membership of '24' in mix_list_1<br> \n",
    "                        c. Concatenate the mix_list_1 and mix_list_2<br>\n",
    "                        d. Repeat the mix_list_2 three times </b>\n",
    "                </font>\n",
    "            </div>\n",
    "        </td>\n",
    "    </tr>\n",
    "</table>"
   ]
  },
  {
   "cell_type": "markdown",
   "metadata": {
    "id": "y5fuZzHvHq78"
   },
   "source": [
    "**Lists to perform operations:**\n",
    "\n",
    "mix_list_1 = ['Learn', 24, 'Blue', False, -8]\n",
    "\n",
    "mix_list_2 = [4, 7, 'Summer']"
   ]
  },
  {
   "cell_type": "markdown",
   "metadata": {
    "id": "fb4IvjnCHq79"
   },
   "source": [
    "**a. Check the length of mix_list_1**"
   ]
  },
  {
   "cell_type": "code",
   "execution_count": 70,
   "metadata": {
    "id": "2LoU4Gt2Hq79"
   },
   "outputs": [
    {
     "name": "stdout",
     "output_type": "stream",
     "text": [
      "5\n"
     ]
    }
   ],
   "source": [
    "mix_list_1 = ['Learn', 24, 'Blue', False, -8]\n",
    "\n",
    "mix_list_2 = [4, 7, 'Summer']\n",
    "\n",
    "print(len(mix_list_1))\n"
   ]
  },
  {
   "cell_type": "code",
   "execution_count": 72,
   "metadata": {
    "id": "xy0gdMTsHq8C"
   },
   "outputs": [
    {
     "name": "stdout",
     "output_type": "stream",
     "text": [
      "True\n"
     ]
    }
   ],
   "source": [
    "mix_list_1 = ['Learn', 24, 'Blue', False, -8]\n",
    "\n",
    "print(24 in mix_list_1)\n"
   ]
  },
  {
   "cell_type": "markdown",
   "metadata": {
    "id": "NggnUh-sHq8F"
   },
   "source": [
    "**c. Concatenate the mix_list_1 and mix_list_2**"
   ]
  },
  {
   "cell_type": "code",
   "execution_count": 73,
   "metadata": {
    "id": "zkokv2UxHq8F"
   },
   "outputs": [
    {
     "name": "stdout",
     "output_type": "stream",
     "text": [
      "['Learn', 24, 'Blue', False, -8, 4, 7, 'Summer']\n"
     ]
    }
   ],
   "source": [
    "mix_list_1 = ['Learn', 24, 'Blue', False, -8]\n",
    "\n",
    "mix_list_2 = [4, 7, 'Summer']\n",
    "\n",
    "print(mix_list_1 + mix_list_2)"
   ]
  },
  {
   "cell_type": "markdown",
   "metadata": {
    "id": "KXnGgSLHHq8I"
   },
   "source": [
    "**d. Repeat the mix_list_2 three times**"
   ]
  },
  {
   "cell_type": "code",
   "execution_count": 74,
   "metadata": {
    "id": "7_9BewysHq8I"
   },
   "outputs": [
    {
     "name": "stdout",
     "output_type": "stream",
     "text": [
      "['Learn', 24, 'Blue', False, -8, 4, 7, 'Summer', 'Learn', 24, 'Blue', False, -8, 4, 7, 'Summer', 'Learn', 24, 'Blue', False, -8, 4, 7, 'Summer']\n"
     ]
    }
   ],
   "source": [
    "mix_list_1 = ['Learn', 24, 'Blue', False, -8]\n",
    "\n",
    "mix_list_2 = [4, 7, 'Summer']\n",
    "\n",
    "mix = mix_list_1 + mix_list_2\n",
    "\n",
    "print(mix*3)"
   ]
  },
  {
   "cell_type": "markdown",
   "metadata": {
    "id": "WsoC37bTHq8L"
   },
   "source": [
    "<table align=\"left\">\n",
    "    <tr>\n",
    "        <td width=\"6%\">\n",
    "            <img src=\"question_icon.png\">\n",
    "        </td>\n",
    "        <td>\n",
    "            <div align=\"left\", style=\"font-size:120%\">\n",
    "                <font color=\"#21618C\">\n",
    "                    <b>10. Write the program to multiply the two lists</b>\n",
    "                </font>\n",
    "            </div>\n",
    "        </td>\n",
    "    </tr>\n",
    "</table>"
   ]
  },
  {
   "cell_type": "markdown",
   "metadata": {
    "id": "Rz2kjxyYHq8L"
   },
   "source": [
    "**Lists to perform multiplication:**\n",
    "\n",
    "num_list_1 = [1, 2, 3, 4]\n",
    "\n",
    "num_list_2 = [0, 5, 2, 1]"
   ]
  },
  {
   "cell_type": "code",
   "execution_count": 99,
   "metadata": {
    "id": "Fu5bsAB3Hq8M"
   },
   "outputs": [
    {
     "name": "stdout",
     "output_type": "stream",
     "text": [
      "[2, 12, 30, 56]\n"
     ]
    }
   ],
   "source": [
    "# Two lists to multiply element-wise\n",
    "\n",
    "list1 = [2, 4, 6, 8]\n",
    "\n",
    "list2 = [1, 3, 5, 7]\n",
    "\n",
    " \n",
    "\n",
    "# Initialize an empty result list\n",
    "\n",
    "result = []\n",
    "\n",
    " \n",
    "\n",
    "# Check if the lists are of the same length\n",
    "\n",
    "if len(list1) == len(list2):\n",
    "\n",
    "    # Multiply corresponding elements and append to the result list\n",
    "\n",
    "    for i in range(len(list1)):\n",
    "\n",
    "        result.append(list1[i] * list2[i])\n",
    "\n",
    "else:\n",
    "\n",
    "    print(\"Lists must have the same length for element-wise multiplication.\")\n",
    "\n",
    " \n",
    "\n",
    "# Print the result\n",
    "\n",
    "print(result)"
   ]
  },
  {
   "cell_type": "code",
   "execution_count": 100,
   "metadata": {},
   "outputs": [
    {
     "data": {
      "text/plain": [
       "[10, 40, 90]"
      ]
     },
     "execution_count": 100,
     "metadata": {},
     "output_type": "execute_result"
    }
   ],
   "source": [
    "a = [1,2,3]\n",
    "\n",
    "b= [10,20,30]\n",
    "\n",
    "c = [] \n",
    "\n",
    "for i in range(len(a)):\n",
    "\n",
    "    c.append(a[i] * b[i])\n",
    "\n",
    "    \n",
    "\n",
    "c"
   ]
  },
  {
   "cell_type": "markdown",
   "metadata": {
    "id": "xNgztYzkHq8P"
   },
   "source": [
    "<table align=\"left\">\n",
    "    <tr>\n",
    "        <td width=\"6%\">\n",
    "            <img src=\"question_icon.png\">\n",
    "        </td>\n",
    "        <td>\n",
    "            <div align=\"left\", style=\"font-size:120%\">\n",
    "                <font color=\"#21618C\">\n",
    "                    <b>11. Write a code to retrieve elements from a list<br><br>\n",
    "                       a. First element<br>\n",
    "                       b. Second last element<br>\n",
    "                       c. First three elements<br>\n",
    "                       d. Slice the list from 1st index till the last index with an increment of an index by 2\n",
    "                    </b>\n",
    "                </font>\n",
    "            </div>\n",
    "        </td>\n",
    "    </tr>\n",
    "</table>"
   ]
  },
  {
   "cell_type": "markdown",
   "metadata": {
    "id": "C7-N9cjuHq8P"
   },
   "source": [
    "**Use the below list**\n",
    "\n",
    "mix_list = ['Python', 1, 2, 3, 'Data', True] "
   ]
  },
  {
   "cell_type": "markdown",
   "metadata": {
    "id": "5gvhfoqGHq8Q"
   },
   "source": [
    "**a. First element**"
   ]
  },
  {
   "cell_type": "code",
   "execution_count": 76,
   "metadata": {
    "id": "RnPABxeeHq8R"
   },
   "outputs": [
    {
     "name": "stdout",
     "output_type": "stream",
     "text": [
      "Python\n"
     ]
    }
   ],
   "source": [
    "mix_list = ['Python', 1, 2, 3, 'Data', True]\n",
    "\n",
    "print(mix_list[0])"
   ]
  },
  {
   "cell_type": "markdown",
   "metadata": {
    "id": "O4D_YwEEHq8U"
   },
   "source": [
    "**b. Second last element**"
   ]
  },
  {
   "cell_type": "code",
   "execution_count": 78,
   "metadata": {
    "id": "qoNIWqPcHq8U"
   },
   "outputs": [
    {
     "name": "stdout",
     "output_type": "stream",
     "text": [
      "Data\n"
     ]
    }
   ],
   "source": [
    "mix_list = ['Python', 1, 2, 3, 'Data', True]\n",
    "\n",
    "print(mix_list[-2])"
   ]
  },
  {
   "cell_type": "markdown",
   "metadata": {
    "id": "KkYrr5nxHq8X"
   },
   "source": [
    "**c. First three elements**"
   ]
  },
  {
   "cell_type": "code",
   "execution_count": 79,
   "metadata": {
    "id": "cNrHgcS3Hq8Y"
   },
   "outputs": [
    {
     "name": "stdout",
     "output_type": "stream",
     "text": [
      "['Python', 1, 2]\n"
     ]
    }
   ],
   "source": [
    "mix_list = ['Python', 1, 2, 3, 'Data', True]\n",
    "\n",
    "print(mix_list[0:3])"
   ]
  },
  {
   "cell_type": "markdown",
   "metadata": {
    "collapsed": true,
    "id": "xPzM8IujHq8b"
   },
   "source": [
    "**d. Slice the list from 1st index till the last index with an increment of an index by 2**"
   ]
  },
  {
   "cell_type": "code",
   "execution_count": 81,
   "metadata": {
    "id": "LFNqcmtMHq8c"
   },
   "outputs": [
    {
     "name": "stdout",
     "output_type": "stream",
     "text": [
      "[1, 3, True]\n"
     ]
    }
   ],
   "source": [
    "mix_list = ['Python', 1, 2, 3, 'Data', True]\n",
    "print(mix_list[1::2])"
   ]
  },
  {
   "cell_type": "markdown",
   "metadata": {
    "id": "__H6fsMJHq8f"
   },
   "source": [
    "<table align=\"left\">\n",
    "    <tr>\n",
    "        <td width=\"6%\">\n",
    "            <img src=\"question_icon.png\">\n",
    "        </td>\n",
    "        <td>\n",
    "            <div align=\"left\", style=\"font-size:120%\">\n",
    "                <font color=\"#21618C\">\n",
    "                    <b>12.. Write a program to perform following built-in list operations:<br><br>\n",
    "                        a. Min(list)<br>\n",
    "                        b. Max(list)<br>\n",
    "                        c. Sort the elements (use sort() and sorted() function)<br>\n",
    "                        d. Create a copy of a list<br>\n",
    "                        e. Remove element '5' from the list</b>\n",
    "                </font>\n",
    "            </div>\n",
    "        </td>\n",
    "    </tr>\n",
    "</table>"
   ]
  },
  {
   "cell_type": "markdown",
   "metadata": {
    "id": "ZzC2S5YnHq8g"
   },
   "source": [
    "**Use the below list**\n",
    "\n",
    "num_list = [4, 5, 7, -2, 0, 1] "
   ]
  },
  {
   "cell_type": "markdown",
   "metadata": {
    "id": "mcQc-2B5Hq8g"
   },
   "source": [
    "**a. Min(list)**"
   ]
  },
  {
   "cell_type": "code",
   "execution_count": 83,
   "metadata": {
    "id": "VOAZDd41Hq8g"
   },
   "outputs": [
    {
     "name": "stdout",
     "output_type": "stream",
     "text": [
      "-2\n"
     ]
    }
   ],
   "source": [
    "num_list = [4, 5, 7, -2, 0, 1]\n",
    "print(min(num_list))"
   ]
  },
  {
   "cell_type": "markdown",
   "metadata": {
    "id": "aQYj7JFHHq8j"
   },
   "source": [
    "**b. Max(list)**"
   ]
  },
  {
   "cell_type": "code",
   "execution_count": 84,
   "metadata": {
    "id": "jMRj1xagHq8j"
   },
   "outputs": [
    {
     "name": "stdout",
     "output_type": "stream",
     "text": [
      "7\n"
     ]
    }
   ],
   "source": [
    "# type your code herenum_list = [4, 5, 7, -2, 0, 1]\n",
    "print(max(num_list))"
   ]
  },
  {
   "cell_type": "markdown",
   "metadata": {
    "id": "SmJUIeeqHq8m"
   },
   "source": [
    "**c. Sort the elements (use sort() and sorted() function)**"
   ]
  },
  {
   "cell_type": "code",
   "execution_count": 92,
   "metadata": {
    "id": "hbhRFjnZHq8m"
   },
   "outputs": [
    {
     "name": "stdout",
     "output_type": "stream",
     "text": [
      "[-2, 0, 1, 4, 5, 7]\n"
     ]
    }
   ],
   "source": [
    "num_list = [4, 5, 7, -2, 0, 1]\n",
    "L=num_list.sort()\n",
    "print(sorted(num_list))"
   ]
  },
  {
   "cell_type": "markdown",
   "metadata": {
    "id": "KmSbjVUwHq8o"
   },
   "source": [
    "**d. Create a copy of a list**"
   ]
  },
  {
   "cell_type": "code",
   "execution_count": 93,
   "metadata": {
    "id": "56UyQFdiHq8p"
   },
   "outputs": [
    {
     "name": "stdout",
     "output_type": "stream",
     "text": [
      "[4, 5, 7, -2, 0, 1]\n"
     ]
    }
   ],
   "source": [
    "num_list = [4, 5, 7, -2, 0, 1]\n",
    "new_list = num_list.copy()\n",
    "print(new_list)"
   ]
  },
  {
   "cell_type": "markdown",
   "metadata": {
    "id": "Jfot8PkZHq8r"
   },
   "source": [
    "**e. Remove element '5' from the list**"
   ]
  },
  {
   "cell_type": "code",
   "execution_count": 94,
   "metadata": {
    "id": "hERL4T88Hq8s"
   },
   "outputs": [
    {
     "name": "stdout",
     "output_type": "stream",
     "text": [
      "[4, 7, -2, 0, 1]\n"
     ]
    }
   ],
   "source": [
    "num_list = [4, 5, 7, -2, 0, 1]\n",
    "num_list.remove(5)\n",
    "print(num_list)"
   ]
  },
  {
   "cell_type": "markdown",
   "metadata": {
    "id": "irtsAX9KHq8u"
   },
   "source": [
    "<table align=\"left\">\n",
    "    <tr>\n",
    "        <td width=\"6%\">\n",
    "            <img src=\"question_icon.png\">\n",
    "        </td>\n",
    "        <td>\n",
    "            <div align=\"left\", style=\"font-size:120%\">\n",
    "                <font color=\"#21618C\">\n",
    "                    <b>13.. Manipulating a list:<br><br>\n",
    "                        a. Add a new element 'Data' in the given list<br>\n",
    "                        b. Add elements 'Excel' and 'Data' in the given list<br>\n",
    "                        c. Replace an element 'C' with 'C++' in the given list<br>\n",
    "                    </b>\n",
    "                </font>\n",
    "            </div>\n",
    "        </td>\n",
    "    </tr>\n",
    "</table>"
   ]
  },
  {
   "cell_type": "markdown",
   "metadata": {
    "id": "6ksiCCmSHq8v"
   },
   "source": [
    "#### Use the below list\n",
    "\n",
    "languages_list = ['R', 'Python', 'C', 'Java']"
   ]
  },
  {
   "cell_type": "markdown",
   "metadata": {
    "id": "N1ZIGDiDHq8v"
   },
   "source": [
    "**a. Add a new element 'Data' in the given list**"
   ]
  },
  {
   "cell_type": "code",
   "execution_count": 102,
   "metadata": {
    "id": "pqdSAn1MHq8w"
   },
   "outputs": [
    {
     "name": "stdout",
     "output_type": "stream",
     "text": [
      "new_list: ['R', 'Python', 'C', 'Java', 'Data']\n"
     ]
    }
   ],
   "source": [
    "languages_list = ['R','Python', 'C', 'Java']\n",
    "\n",
    "languages_list.append('Data')\n",
    "\n",
    "print('new_list:', languages_list)"
   ]
  },
  {
   "cell_type": "markdown",
   "metadata": {
    "id": "xuln8KAsHq8y"
   },
   "source": [
    "**b. Add elements 'Excel' and 'Data' in the given list**"
   ]
  },
  {
   "cell_type": "code",
   "execution_count": 105,
   "metadata": {
    "id": "8lu6nYthHq8z"
   },
   "outputs": [
    {
     "name": "stdout",
     "output_type": "stream",
     "text": [
      "new_list: ['R', 'Python', 'C', 'Java', 'Data', 'Excel']\n"
     ]
    }
   ],
   "source": [
    "languages_list = ['R','Python', 'C', 'Java']\n",
    "\n",
    "languages_list.extend(['Data', 'Excel'])\n",
    "\n",
    "print('new_list:', languages_list)"
   ]
  },
  {
   "cell_type": "markdown",
   "metadata": {
    "id": "wCl5_gw2Hq81"
   },
   "source": [
    "**c. Replace an element 'C' with 'C++' in the given list**"
   ]
  },
  {
   "cell_type": "code",
   "execution_count": 112,
   "metadata": {
    "id": "r9wdhVe-Hq82"
   },
   "outputs": [
    {
     "name": "stdout",
     "output_type": "stream",
     "text": [
      "new_list: ['R', 'Python', 'C++', 'Java']\n"
     ]
    }
   ],
   "source": [
    "# type your code here\n",
    "\n",
    "languages_list = ['R','Python', 'C', 'Java']\n",
    "\n",
    " \n",
    "\n",
    "# replace 'C' with 'C++'\n",
    "\n",
    "languages_list[2] = 'C++'\n",
    "\n",
    "print('new_list:', languages_list)"
   ]
  },
  {
   "cell_type": "markdown",
   "metadata": {
    "id": "ftGI6ZUOHq84"
   },
   "source": [
    "<table align=\"left\">\n",
    "    <tr>\n",
    "        <td width=\"6%\">\n",
    "            <img src=\"question_icon.png\">\n",
    "        </td>\n",
    "        <td>\n",
    "            <div align=\"left\", style=\"font-size:120%\">\n",
    "                <font color=\"#21618C\">\n",
    "                    <b>14.. How many times 'Summer' is occuring in a given list?\n",
    "                    </b>\n",
    "                </font>\n",
    "            </div>\n",
    "        </td>\n",
    "    </tr>\n",
    "</table>"
   ]
  },
  {
   "cell_type": "markdown",
   "metadata": {
    "id": "Jhgx8xp0Hq84"
   },
   "source": [
    "#### Use the below list\n",
    "\n",
    "seasons_list = ['Summer', 'Winter', 'Spring', 'Winter', 'Spring' ,'Summer', 'Spring', 'Summer', 'Winter', 'Summer', 'Spring']"
   ]
  },
  {
   "cell_type": "code",
   "execution_count": 113,
   "metadata": {
    "id": "5u7MipCXHq84"
   },
   "outputs": [
    {
     "data": {
      "text/plain": [
       "4"
      ]
     },
     "execution_count": 113,
     "metadata": {},
     "output_type": "execute_result"
    }
   ],
   "source": [
    "# type your code here\n",
    "\n",
    "# given list\n",
    "\n",
    "seasons_list = ['Summer', 'Winter', 'Spring', 'Winter', 'Spring' ,'Summer', 'Spring', 'Summer', 'Winter', 'Summer', 'Spring']\n",
    "\n",
    " \n",
    "\n",
    "# count the number of times 'Summer' occurs in a given list\n",
    "\n",
    "seasons_list.count('Summer')"
   ]
  },
  {
   "cell_type": "markdown",
   "metadata": {
    "id": "tjmTbT_5Hq88"
   },
   "source": [
    "<a id=\"tuple\"> </a>\n",
    "## 4. Tuple"
   ]
  },
  {
   "cell_type": "markdown",
   "metadata": {
    "id": "EcQuIDOKHq88"
   },
   "source": [
    "<table align=\"left\">\n",
    "    <tr>\n",
    "        <td width=\"6%\">\n",
    "            <img src=\"question_icon.png\">\n",
    "        </td>\n",
    "        <td>\n",
    "            <div align=\"left\", style=\"font-size:120%\">\n",
    "                <font color=\"#21618C\">\n",
    "                    <b>15.. Write a code to perform operations on tuple:<br><br>\n",
    "                        a. Check the length of num_tuple<br>\n",
    "                        b. Concatenate the num_tuple and mix_tuple<br>\n",
    "                        c. Repeat the mix_tuple two times\n",
    "                    </b>\n",
    "                </font>\n",
    "            </div>\n",
    "        </td>\n",
    "    </tr>\n",
    "</table>"
   ]
  },
  {
   "cell_type": "markdown",
   "metadata": {
    "id": "OUWhCypvHq89"
   },
   "source": [
    "**Tuples to perform operations:**\n",
    "\n",
    "num_tuple = (4, 4, 8)\n",
    "\n",
    "mix_tuple = 'John', 5, -2"
   ]
  },
  {
   "cell_type": "markdown",
   "metadata": {
    "id": "6YRuHhpRHq89"
   },
   "source": [
    "**a. Check the length of num_tuple**"
   ]
  },
  {
   "cell_type": "code",
   "execution_count": 115,
   "metadata": {
    "id": "fnDwxnKHHq8-"
   },
   "outputs": [
    {
     "data": {
      "text/plain": [
       "3"
      ]
     },
     "execution_count": 115,
     "metadata": {},
     "output_type": "execute_result"
    }
   ],
   "source": [
    "num_tuple = (4, 4, 8)\n",
    "\n",
    "len(num_tuple)"
   ]
  },
  {
   "cell_type": "markdown",
   "metadata": {
    "id": "pf41oJT1Hq9A"
   },
   "source": [
    "**b. Concatenate the num_tuple and mix_tuple**"
   ]
  },
  {
   "cell_type": "code",
   "execution_count": 116,
   "metadata": {
    "id": "k_4RrgIyHq9A"
   },
   "outputs": [
    {
     "name": "stdout",
     "output_type": "stream",
     "text": [
      "(4, 4, 8, 'John', 5, -2)\n"
     ]
    }
   ],
   "source": [
    "num_tuple = (4, 4, 8)\n",
    "\n",
    "mix_tuple = 'John', 5, -2\n",
    "\n",
    "mix = num_tuple + mix_tuple\n",
    "\n",
    "print(mix)"
   ]
  },
  {
   "cell_type": "markdown",
   "metadata": {
    "id": "5eVMFRY4Hq9C"
   },
   "source": [
    "**c. Repeat the mix_tuple two times**"
   ]
  },
  {
   "cell_type": "code",
   "execution_count": 117,
   "metadata": {
    "id": "scFq2y3VHq9C"
   },
   "outputs": [
    {
     "name": "stdout",
     "output_type": "stream",
     "text": [
      "(4, 4, 8, 'John', 5, -2, 4, 4, 8, 'John', 5, -2)\n"
     ]
    }
   ],
   "source": [
    "num_tuple = (4, 4, 8)\n",
    "\n",
    "mix_tuple = 'John', 5, -2\n",
    "\n",
    "mix = num_tuple + mix_tuple\n",
    "\n",
    "print(mix*2)"
   ]
  },
  {
   "cell_type": "markdown",
   "metadata": {
    "id": "xhwXYp7lHq9F"
   },
   "source": [
    "<table align=\"left\">\n",
    "    <tr>\n",
    "        <td width=\"6%\">\n",
    "            <img src=\"question_icon.png\">\n",
    "        </td>\n",
    "        <td>\n",
    "            <div align=\"left\", style=\"font-size:120%\">\n",
    "                <font color=\"#21618C\">\n",
    "                    <b>16. Add a new element '4' to the given tuple</b>\n",
    "                </font>\n",
    "            </div>\n",
    "        </td>\n",
    "    </tr>\n",
    "</table>"
   ]
  },
  {
   "cell_type": "markdown",
   "metadata": {
    "id": "y1tlFRgTHq9G"
   },
   "source": [
    "**Use the tuple below:**\n",
    "\n",
    "mix_tuple = (['a', 1, True], 2, 'Science', -5)"
   ]
  },
  {
   "cell_type": "code",
   "execution_count": 118,
   "metadata": {},
   "outputs": [
    {
     "data": {
      "text/plain": [
       "(['a', 1, True], 2, 'Science', -5, 4)"
      ]
     },
     "execution_count": 118,
     "metadata": {},
     "output_type": "execute_result"
    }
   ],
   "source": [
    "mix_tuple = (['a', 1, True], 2, 'Science', -5)\n",
    "\n",
    "mix_tuple = mix_tuple + (4,)\n",
    "\n",
    "mix_tuple"
   ]
  },
  {
   "cell_type": "markdown",
   "metadata": {
    "id": "84aJcvgaHq9J"
   },
   "source": [
    "<table align=\"left\">\n",
    "    <tr>\n",
    "        <td width=\"6%\">\n",
    "            <img src=\"question_icon.png\">\n",
    "        </td>\n",
    "        <td>\n",
    "            <div align=\"left\", style=\"font-size:120%\">\n",
    "                <font color=\"#21618C\">\n",
    "                    <b>17. Replace the elements in the given tuple: <br><br>\n",
    "                        a. Replace '2' with '3'<br>\n",
    "                        b. Replace 'True' in first element with 'False'\n",
    "                    </b>\n",
    "                </font>\n",
    "            </div>\n",
    "        </td>\n",
    "    </tr>\n",
    "</table>"
   ]
  },
  {
   "cell_type": "markdown",
   "metadata": {
    "id": "bizHUBQ9Hq9J"
   },
   "source": [
    "**Use the tuple below:**\n",
    "\n",
    "mix_tuple = (['a', 1, True], 2, 'Science', -5)"
   ]
  },
  {
   "cell_type": "markdown",
   "metadata": {
    "id": "YG7TWxVhHq9K"
   },
   "source": [
    "**a. Replace '2' with '3'**"
   ]
  },
  {
   "cell_type": "code",
   "execution_count": 121,
   "metadata": {
    "id": "eZAmxxuDHq9K"
   },
   "outputs": [
    {
     "ename": "TypeError",
     "evalue": "'tuple' object does not support item assignment",
     "output_type": "error",
     "traceback": [
      "\u001b[0;31m---------------------------------------------------------------------------\u001b[0m",
      "\u001b[0;31mTypeError\u001b[0m                                 Traceback (most recent call last)",
      "Cell \u001b[0;32mIn[121], line 3\u001b[0m\n\u001b[1;32m      1\u001b[0m mix_tuple \u001b[38;5;241m=\u001b[39m ([\u001b[38;5;124m'\u001b[39m\u001b[38;5;124ma\u001b[39m\u001b[38;5;124m'\u001b[39m, \u001b[38;5;241m1\u001b[39m, \u001b[38;5;28;01mTrue\u001b[39;00m], \u001b[38;5;241m2\u001b[39m, \u001b[38;5;124m'\u001b[39m\u001b[38;5;124mScience\u001b[39m\u001b[38;5;124m'\u001b[39m, \u001b[38;5;241m-\u001b[39m\u001b[38;5;241m5\u001b[39m)\n\u001b[0;32m----> 3\u001b[0m mix_tuple[\u001b[38;5;241m1\u001b[39m]\u001b[38;5;241m=\u001b[39m\u001b[38;5;241m3\u001b[39m\n\u001b[1;32m      5\u001b[0m \u001b[38;5;28mprint\u001b[39m(mix_tuple)\n",
      "\u001b[0;31mTypeError\u001b[0m: 'tuple' object does not support item assignment"
     ]
    }
   ],
   "source": [
    "mix_tuple = (['a', 1, True], 2, 'Science', -5)\n",
    "\n",
    "mix_tuple[1]=3\n",
    "\n",
    "print(mix_tuple)"
   ]
  },
  {
   "cell_type": "markdown",
   "metadata": {
    "id": "yYdRaCumHq9M"
   },
   "source": [
    "**b. Replace 'True' in first element of the tuple with 'False'**"
   ]
  },
  {
   "cell_type": "code",
   "execution_count": 123,
   "metadata": {
    "id": "rr8Vr6Z_Hq9N"
   },
   "outputs": [
    {
     "name": "stdout",
     "output_type": "stream",
     "text": [
      "(['a', 1, False], 2, 'Science', -5)\n"
     ]
    }
   ],
   "source": [
    "mix_tuple = (['a', 1, True], 2, 'Science', -5)\n",
    "mix_tuple[0][2]=False\n",
    "\n",
    "print(mix_tuple)"
   ]
  },
  {
   "cell_type": "markdown",
   "metadata": {
    "id": "mndBIIDcHq9Q"
   },
   "source": [
    "<a id=\"set\"> </a>\n",
    "## 5. Set"
   ]
  },
  {
   "cell_type": "markdown",
   "metadata": {
    "id": "Gx8dkV4yHq9Q"
   },
   "source": [
    "<table align=\"left\">\n",
    "    <tr>\n",
    "        <td width=\"6%\">\n",
    "            <img src=\"question_icon.png\">\n",
    "        </td>\n",
    "        <td>\n",
    "            <div align=\"left\", style=\"font-size:120%\">\n",
    "                <font color=\"#21618C\">\n",
    "                    <b>18. Write the program to perform following manipulations:<br><br>\n",
    "                        a. Add '7' to the given set<br>\n",
    "                        b. Remove '3' from a given set<br>\n",
    "                        c. Clear the set\n",
    "                    </b>\n",
    "                </font>\n",
    "            </div>\n",
    "        </td>\n",
    "    </tr>\n",
    "</table>"
   ]
  },
  {
   "cell_type": "markdown",
   "metadata": {
    "id": "v_a9Jxw3Hq9R"
   },
   "source": [
    "**Use the below set for manipulation**\n",
    "\n",
    "num_set = {1, 2, 3, 4, 5, 6}"
   ]
  },
  {
   "cell_type": "markdown",
   "metadata": {
    "id": "VKR2QdmMHq9R"
   },
   "source": [
    "**a. Add '7' to the given set**"
   ]
  },
  {
   "cell_type": "code",
   "execution_count": null,
   "metadata": {
    "id": "xxKBLla5Hq9S"
   },
   "outputs": [],
   "source": [
    "# type your code here\n",
    "\n",
    "num_set = {1, 2, 3, 4, 5, 6}\n",
    "\n",
    " \n",
    "\n",
    "# add() adds a new element to the set\n",
    "\n",
    "num_set.add(7)\n",
    "\n",
    "print('updated set:', num_set)"
   ]
  },
  {
   "cell_type": "markdown",
   "metadata": {
    "id": "bnzgEbLuHq9U"
   },
   "source": [
    "**b. Remove '3' from a given set**"
   ]
  },
  {
   "cell_type": "code",
   "execution_count": null,
   "metadata": {
    "id": "F51ucH0wHq9W"
   },
   "outputs": [],
   "source": [
    "# type your code here\n",
    "\n",
    "num_set = {1, 2, 3, 4, 5, 6}\n",
    "\n",
    " \n",
    "\n",
    "# remove() returns the set after removal of the element\n",
    "\n",
    "num_set.remove(3)\n",
    "\n",
    "print('updated set:', num_set)"
   ]
  },
  {
   "cell_type": "markdown",
   "metadata": {
    "id": "JGhiYu4uHq9Y"
   },
   "source": [
    "**c. Clear the set**"
   ]
  },
  {
   "cell_type": "code",
   "execution_count": 124,
   "metadata": {
    "id": "hwIWOYClHq9Y"
   },
   "outputs": [
    {
     "name": "stdout",
     "output_type": "stream",
     "text": [
      "set()\n"
     ]
    }
   ],
   "source": [
    "num_set = {1, 2, 3, 4, 5, 6}\n",
    "num_set.clear()\n",
    "print(num_set)"
   ]
  },
  {
   "cell_type": "markdown",
   "metadata": {
    "id": "LtYFMb3zHq9a"
   },
   "source": [
    "<table align=\"left\">\n",
    "    <tr>\n",
    "        <td width=\"6%\">\n",
    "            <img src=\"question_icon.png\">\n",
    "        </td>\n",
    "        <td>\n",
    "            <div align=\"left\", style=\"font-size:120%\">\n",
    "                <font color=\"#21618C\">\n",
    "                    <b>19. Create two sets of words from the given sentences and perform the following operations:<br><br>\n",
    "                        a. Find the count of unique words in each of the sentence<br> \n",
    "                        b. Find the common words in both the sentences<br>\n",
    "                        c. Find the unique words in both the sentences\n",
    "                       </b>\n",
    "                </font>\n",
    "            </div>\n",
    "        </td>\n",
    "    </tr>\n",
    "</table>"
   ]
  },
  {
   "cell_type": "markdown",
   "metadata": {
    "id": "rZ9yCM5VHq9b"
   },
   "source": [
    "**Use the sentences given below:**\n",
    "    \n",
    "sentence_1 = 'We shall analyse the data using python' \n",
    "\n",
    "sentence_2 = 'Python for data science'"
   ]
  },
  {
   "cell_type": "markdown",
   "metadata": {
    "id": "EFD3WWtsHq9b"
   },
   "source": [
    "**Create set of words**"
   ]
  },
  {
   "cell_type": "code",
   "execution_count": 125,
   "metadata": {
    "id": "w7c2XTM6Hq9b"
   },
   "outputs": [
    {
     "data": {
      "text/plain": [
       "{'We', 'analyse', 'data', 'python', 'shall', 'the', 'using'}"
      ]
     },
     "execution_count": 125,
     "metadata": {},
     "output_type": "execute_result"
    }
   ],
   "source": [
    "# type your code here\n",
    "\n",
    "sentence_1 = 'We shall analyse the data using python'\n",
    "\n",
    "sentence_2 = 'Specifically, python for data science'\n",
    "\n",
    " \n",
    "\n",
    "# create a set of words\n",
    "\n",
    "sen_1_words = set(sentence_1.split())\n",
    "\n",
    "sen_2_words = set(sentence_2.split())\n",
    "\n"
   ]
  },
  {
   "cell_type": "markdown",
   "metadata": {
    "id": "-fe598g4Hq9e"
   },
   "source": [
    "**a. Find the number of unique words in the sentences**"
   ]
  },
  {
   "cell_type": "code",
   "execution_count": 126,
   "metadata": {
    "id": "YzxURB_hHq9e"
   },
   "outputs": [
    {
     "name": "stdout",
     "output_type": "stream",
     "text": [
      "Number of unique words in 1st sentence: 7\n",
      "Number of unique words in 2nd sentence: 5\n"
     ]
    }
   ],
   "source": [
    "sentence_1 = 'We shall analyse the data using python'\n",
    "\n",
    "sentence_2 = 'Specifically, python for data science'\n",
    "\n",
    " \n",
    "\n",
    "# create a set of words\n",
    "\n",
    "sen_1_words = set(sentence_1.split())\n",
    "\n",
    "sen_2_words = set(sentence_2.split())\n",
    "\n",
    "sen_1_words\n",
    "\n",
    "no_of_unique_words_in_sentence1 = len(sen_1_words)\n",
    "\n",
    "print('Number of unique words in 1st sentence:', no_of_unique_words_in_sentence1)\n",
    "\n",
    " \n",
    "\n",
    "# number of unique words in sentence_2\n",
    "\n",
    "no_of_unique_words_in_sentence2 = len(sen_2_words)\n",
    "\n",
    "print('Number of unique words in 2nd sentence:', no_of_unique_words_in_sentence2)"
   ]
  },
  {
   "cell_type": "markdown",
   "metadata": {
    "id": "z2Vs9Nl0Hq9h"
   },
   "source": [
    "**b. Find the common words in both the sentences**"
   ]
  },
  {
   "cell_type": "code",
   "execution_count": 128,
   "metadata": {
    "id": "AWiLMR3FHq9i"
   },
   "outputs": [
    {
     "name": "stdout",
     "output_type": "stream",
     "text": [
      "The common words between the two sentences: {'data', 'python'}\n"
     ]
    }
   ],
   "source": [
    "# type your code here\n",
    "\n",
    "# intersection() returns common elements in the sets\n",
    "\n",
    "common_words = sen_1_words.intersection(sen_2_words)\n",
    "\n",
    "print('The common words between the two sentences:', common_words)"
   ]
  },
  {
   "cell_type": "markdown",
   "metadata": {
    "id": "i4EVZBkoHq9m"
   },
   "source": [
    "**c. Find the unique words in both the sentences**"
   ]
  },
  {
   "cell_type": "code",
   "execution_count": 129,
   "metadata": {
    "id": "0WByAYsbHq9m"
   },
   "outputs": [
    {
     "name": "stdout",
     "output_type": "stream",
     "text": [
      "Unique words in both the sentences: {'science', 'shall', 'data', 'Specifically,', 'using', 'the', 'python', 'for', 'We', 'analyse'}\n"
     ]
    }
   ],
   "source": [
    "# type your code here\n",
    "\n",
    "# union() returns all elements in the sets\n",
    "\n",
    "# it returns the common elements only once\n",
    "\n",
    "unique_words = sen_1_words.union(sen_2_words)\n",
    "\n",
    "print('Unique words in both the sentences:', unique_words)"
   ]
  },
  {
   "cell_type": "markdown",
   "metadata": {
    "id": "Z_PShZZgHq9r"
   },
   "source": [
    "<table align=\"left\">\n",
    "    <tr>\n",
    "        <td width=\"6%\">\n",
    "            <img src=\"question_icon.png\">\n",
    "        </td>\n",
    "        <td>\n",
    "            <div align=\"left\", style=\"font-size:120%\">\n",
    "                <font color=\"#21618C\">\n",
    "                    <b>20.. Write a program to perform following set operations:<br><br>\n",
    "                        a. Union<br> \n",
    "                        b. Intersection<br>\n",
    "                        c. Set of all the elements of set A that are not in set B<br>\n",
    "                        d. Set of all the elements of set B that are not in set A<br>\n",
    "                        e. Symmetric difference\n",
    "                    </b>\n",
    "                </font>\n",
    "            </div>\n",
    "        </td>\n",
    "    </tr>\n",
    "</table>"
   ]
  },
  {
   "cell_type": "markdown",
   "metadata": {
    "id": "Ajmm_h0PHq9r"
   },
   "source": [
    "**Use the below set:**\n",
    "\n",
    "A = {1, 4, 5, 2, 6, 3, 40, 7, 87, 4, 71}\n",
    "\n",
    "B = {3, 42, 51, 6, 7, 8, 54, 5}"
   ]
  },
  {
   "cell_type": "markdown",
   "metadata": {
    "id": "BLnHDTcqHq9s"
   },
   "source": [
    "**a. Union**"
   ]
  },
  {
   "cell_type": "code",
   "execution_count": 130,
   "metadata": {
    "id": "gIuyHiKQHq9s"
   },
   "outputs": [
    {
     "name": "stdout",
     "output_type": "stream",
     "text": [
      "{1, 2, 3, 4, 5, 6, 7, 40, 71, 8, 42, 51, 54, 87}\n"
     ]
    }
   ],
   "source": [
    "A = {1, 4, 5, 2, 6, 3, 40, 7, 87, 4, 71}\n",
    "\n",
    "B = {3, 42, 51, 6, 7, 8, 54, 5}\n",
    "\n",
    "unique_elements = A.union(B)\n",
    "\n",
    "print(unique_elements)"
   ]
  },
  {
   "cell_type": "markdown",
   "metadata": {
    "id": "aATppGqYHq9v"
   },
   "source": [
    "**b. Intersection**"
   ]
  },
  {
   "cell_type": "code",
   "execution_count": 131,
   "metadata": {
    "id": "-ba7OgAdHq9v"
   },
   "outputs": [
    {
     "name": "stdout",
     "output_type": "stream",
     "text": [
      "Intersection of A and B: {3, 5, 6, 7}\n"
     ]
    }
   ],
   "source": [
    "# type your code here\n",
    "\n",
    "A = {1, 4, 5, 2, 6, 3, 40, 7, 87, 4, 71}\n",
    "\n",
    "B = {3, 42, 51, 6, 7, 8, 54, 5}\n",
    "\n",
    " \n",
    "\n",
    "# take the intersection of two sets\n",
    "\n",
    "Intersection = A.intersection(B)\n",
    "\n",
    "print('Intersection of A and B:', Intersection)"
   ]
  },
  {
   "cell_type": "markdown",
   "metadata": {
    "id": "6zSbv6h9Hq9x"
   },
   "source": [
    "**c. Set of all the elements of set A that are not in set B**"
   ]
  },
  {
   "cell_type": "code",
   "execution_count": 132,
   "metadata": {
    "id": "Pbk8QtY-Hq9y"
   },
   "outputs": [
    {
     "name": "stdout",
     "output_type": "stream",
     "text": [
      "Difference1 : {1, 2, 4, 71, 40, 87}\n",
      "A-B: {1, 2, 4, 71, 40, 87}\n"
     ]
    }
   ],
   "source": [
    "# type your code here\n",
    "\n",
    "A = {1, 4, 5, 2, 6, 3, 40, 7, 87, 4, 71}\n",
    "\n",
    "B = {3, 42, 51, 6, 7, 8, 54, 5}\n",
    "\n",
    " \n",
    "\n",
    "# 'A.difference(B)' give elements in A not in B\n",
    "\n",
    "Difference1 = A.difference(B)\n",
    "\n",
    "print('Difference1 :', Difference1)\n",
    "\n",
    "print('A-B:',A-B)"
   ]
  },
  {
   "cell_type": "markdown",
   "metadata": {
    "id": "qe1z_syuHq91"
   },
   "source": [
    "**d. Set of all the elements of set B that are not in set A**"
   ]
  },
  {
   "cell_type": "code",
   "execution_count": 133,
   "metadata": {
    "id": "qN641EbnHq92"
   },
   "outputs": [
    {
     "name": "stdout",
     "output_type": "stream",
     "text": [
      "Difference1 : {8, 42, 51, 54}\n",
      "B-A: {8, 42, 51, 54}\n"
     ]
    }
   ],
   "source": [
    "# type your code here\n",
    "\n",
    "A = {1, 4, 5, 2, 6, 3, 40, 7, 87, 4, 71}\n",
    "\n",
    "B = {3, 42, 51, 6, 7, 8, 54, 5}\n",
    "\n",
    " \n",
    "\n",
    "# 'A.difference(B)' give elements in A not in B\n",
    "\n",
    "Difference1 = B.difference(A)\n",
    "\n",
    "print('Difference1 :', Difference1)\n",
    "\n",
    "print('B-A:',B-A)"
   ]
  },
  {
   "cell_type": "markdown",
   "metadata": {
    "id": "a1EQeXOUHq94"
   },
   "source": [
    "**e. Symmetric difference**"
   ]
  },
  {
   "cell_type": "code",
   "execution_count": 134,
   "metadata": {
    "id": "Ee7s6P4tHq94"
   },
   "outputs": [
    {
     "name": "stdout",
     "output_type": "stream",
     "text": [
      "Symmetric_difference between A and B: {1, 2, 4, 71, 8, 40, 42, 51, 54, 87}\n"
     ]
    }
   ],
   "source": [
    "# type your code here\n",
    "\n",
    "A = {1, 4, 5, 2, 6, 3, 40, 7, 87, 4, 71}\n",
    "\n",
    "B = {3, 42, 51, 6, 7, 8, 54, 5}\n",
    "\n",
    " \n",
    "\n",
    "# Symmetric_difference is a union of 'A-B' abd 'B-A'\n",
    "\n",
    "Symmetric_difference = A.symmetric_difference(B)\n",
    "\n",
    "print('Symmetric_difference between A and B:', Symmetric_difference)"
   ]
  },
  {
   "cell_type": "markdown",
   "metadata": {
    "id": "_6RhO3T4Hq95"
   },
   "source": [
    "<a id=\"dict\"> </a>\n",
    "## 6. Dictionary"
   ]
  },
  {
   "cell_type": "markdown",
   "metadata": {
    "id": "iXqXH07dHq96"
   },
   "source": [
    "<table align=\"left\">\n",
    "    <tr>\n",
    "        <td width=\"6%\">\n",
    "            <img src=\"question_icon.png\">\n",
    "        </td>\n",
    "        <td>\n",
    "            <div align=\"left\", style=\"font-size:120%\">\n",
    "                <font color=\"#21618C\">\n",
    "                    <b>21. Write a code to add a key to a dictionary\n",
    "                    </b>\n",
    "                </font>\n",
    "            </div>\n",
    "        </td>\n",
    "    </tr>\n",
    "</table>"
   ]
  },
  {
   "cell_type": "markdown",
   "metadata": {
    "id": "03XpGb8QHq96"
   },
   "source": [
    "**Use the given dictionary and add a key (4:16)**\n",
    "\n",
    "square_dictionary = {1:1, 2:4, 3:9}"
   ]
  },
  {
   "cell_type": "code",
   "execution_count": 135,
   "metadata": {
    "id": "7RFqgZ5jHq96"
   },
   "outputs": [
    {
     "name": "stdout",
     "output_type": "stream",
     "text": [
      "updated dictionary: {1: 1, 2: 4, 3: 9, 4: 16}\n"
     ]
    }
   ],
   "source": [
    "# type your code here\n",
    "\n",
    "square_dictionary = {1:1, 2:4, 3:9}\n",
    "\n",
    " \n",
    "\n",
    "# add a key using 'update()'\n",
    "\n",
    "square_dictionary.update({4:16})\n",
    "\n",
    "print('updated dictionary:', square_dictionary)"
   ]
  },
  {
   "cell_type": "markdown",
   "metadata": {
    "id": "436RgdALHq99"
   },
   "source": [
    "<table align=\"left\">\n",
    "    <tr>\n",
    "        <td width=\"6%\">\n",
    "            <img src=\"question_icon.png\">\n",
    "        </td>\n",
    "        <td>\n",
    "            <div align=\"left\", style=\"font-size:120%\">\n",
    "                <font color=\"#21618C\">\n",
    "                    <b>22. Write a program to retrieve the keys/values of dictionary </b>\n",
    "                </font>\n",
    "            </div>\n",
    "        </td>\n",
    "    </tr>\n",
    "</table>"
   ]
  },
  {
   "cell_type": "markdown",
   "metadata": {
    "id": "Vhb4L29kHq99"
   },
   "source": [
    "**Use the dictionary**\n",
    "\n",
    "mix_dictionary = {0:3, 'x':5, 1:2}"
   ]
  },
  {
   "cell_type": "code",
   "execution_count": 136,
   "metadata": {
    "id": "rP76yL6OHq99"
   },
   "outputs": [
    {
     "name": "stdout",
     "output_type": "stream",
     "text": [
      "Keys: dict_keys([0, 'x', 1])\n",
      "Values: dict_values([3, 5, 2])\n"
     ]
    }
   ],
   "source": [
    "# type your code here\n",
    "\n",
    "mix_dictionary = {0:3, 'x':5, 1:2}\n",
    "\n",
    " \n",
    "\n",
    "# keys() returns the keys in the dictionary\n",
    "\n",
    "print('Keys:', mix_dictionary.keys())\n",
    "\n",
    " \n",
    "\n",
    "# values() returns the corresponding values of the keys\n",
    "\n",
    "print('Values:', mix_dictionary.values())"
   ]
  },
  {
   "cell_type": "markdown",
   "metadata": {
    "id": "cSvrg14xHq9_"
   },
   "source": [
    "<table align=\"left\">\n",
    "    <tr>\n",
    "        <td width=\"6%\">\n",
    "            <img src=\"question_icon.png\">\n",
    "        </td>\n",
    "        <td>\n",
    "            <div align=\"left\", style=\"font-size:120%\">\n",
    "                <font color=\"#21618C\">\n",
    "                    <b>23. Write a program to get the value for 'Age' from the dictionary</b>\n",
    "                </font>\n",
    "            </div>\n",
    "        </td>\n",
    "    </tr>\n",
    "</table>"
   ]
  },
  {
   "cell_type": "markdown",
   "metadata": {
    "id": "EkV8dsu3Hq9_"
   },
   "source": [
    "**Use the dictionary**\n",
    "\n",
    "emp_record = {'Weight': 67, 'BMI': 25, 'Age': 27, 'Profession': 'CA'}"
   ]
  },
  {
   "cell_type": "code",
   "execution_count": 137,
   "metadata": {
    "id": "HVd1ohFpHq-B"
   },
   "outputs": [
    {
     "name": "stdout",
     "output_type": "stream",
     "text": [
      "27\n"
     ]
    }
   ],
   "source": [
    "# type your code here\n",
    "\n",
    "emp_record = {'Weight': 67, 'BMI': 25, 'Age': 27, 'Profession': 'CA'}\n",
    "\n",
    " \n",
    "\n",
    "# print the age \n",
    "\n",
    "print(emp_record['Age'])"
   ]
  },
  {
   "cell_type": "markdown",
   "metadata": {
    "id": "l2q3uZc9Hq-E"
   },
   "source": [
    "<table align=\"left\">\n",
    "    <tr>\n",
    "        <td width=\"6%\">\n",
    "            <img src=\"question_icon.png\">\n",
    "        </td>\n",
    "        <td>\n",
    "            <div align=\"left\", style=\"font-size:120%\">\n",
    "                <font color=\"#21618C\">\n",
    "                    <b>24. Write a program to create a dictionary using given keys and values</b>\n",
    "                </font>\n",
    "            </div>\n",
    "        </td>\n",
    "    </tr>\n",
    "</table>"
   ]
  },
  {
   "cell_type": "markdown",
   "metadata": {
    "id": "CFXu0XK9Hq-F"
   },
   "source": [
    "**Use the keys and values to create a dictionary**\n",
    "\n",
    "key = ['a','b','c','d']\n",
    "\n",
    "value = [1, 2, 3, 4]"
   ]
  },
  {
   "cell_type": "code",
   "execution_count": 138,
   "metadata": {
    "id": "ClQMdd0-Hq-G"
   },
   "outputs": [
    {
     "name": "stdout",
     "output_type": "stream",
     "text": [
      "{'a': 1, 'b': 2, 'c': 3, 'd': 4}\n"
     ]
    }
   ],
   "source": [
    "key = ['a','b','c','d']\n",
    "\n",
    "value = [1, 2, 3, 4]\n",
    "\n",
    "dictionary = dict(zip(key, value))\n",
    "\n",
    "print(dictionary)"
   ]
  },
  {
   "cell_type": "markdown",
   "metadata": {
    "id": "_hmw3BX5Hq-J"
   },
   "source": [
    "<table align=\"left\">\n",
    "    <tr>\n",
    "        <td width=\"6%\">\n",
    "            <img src=\"question_icon.png\">\n",
    "        </td>\n",
    "        <td>\n",
    "            <div align=\"left\", style=\"font-size:120%\">\n",
    "                <font color=\"#21618C\">\n",
    "                    <b>25.. Set the country of an employee as 'India' in the given employee record</b>\n",
    "                </font>\n",
    "            </div>\n",
    "        </td>\n",
    "    </tr>\n",
    "</table>"
   ]
  },
  {
   "cell_type": "markdown",
   "metadata": {
    "id": "V_z2TsDUHq-K"
   },
   "source": [
    "**Use the dictionary**\n",
    "\n",
    "emp_record = {'Emp_ID': 'ES001', 'Weight': 67, 'BMI': 25, 'Age': 27, 'Profession': 'CA'}"
   ]
  },
  {
   "cell_type": "code",
   "execution_count": 139,
   "metadata": {
    "id": "VJLZof_iHq-K"
   },
   "outputs": [
    {
     "name": "stdout",
     "output_type": "stream",
     "text": [
      "{'Emp_ID': 'ES001', 'Weight': 67, 'BMI': 25, 'Age': 27, 'Profession': 'CA', 'Country': 'India'}\n"
     ]
    }
   ],
   "source": [
    "emp_record = {'Emp_ID': 'ES001', 'Weight': 67, 'BMI': 25, 'Age': 27, 'Profession': 'CA'}\n",
    "emp_record.update({'Country':'India'})\n",
    "print(emp_record)"
   ]
  },
  {
   "cell_type": "code",
   "execution_count": 140,
   "metadata": {},
   "outputs": [
    {
     "data": {
      "text/plain": [
       "{'Emp_ID': 'ES001',\n",
       " 'Weight': 67,\n",
       " 'BMI': 25,\n",
       " 'Age': 27,\n",
       " 'Profession': 'CA',\n",
       " 'Country': 'India'}"
      ]
     },
     "execution_count": 140,
     "metadata": {},
     "output_type": "execute_result"
    }
   ],
   "source": [
    "# type your code here\n",
    "\n",
    "emp_record = {'Emp_ID': 'ES001', 'Weight': 67, 'BMI': 25, 'Age': 27, 'Profession': 'CA'}\n",
    "\n",
    " \n",
    "\n",
    "# set a key 'Country' with default value 'India'\n",
    "\n",
    "emp_record.setdefault('Country', 'India')\n",
    "\n",
    " \n",
    "\n",
    "emp_record"
   ]
  },
  {
   "cell_type": "markdown",
   "metadata": {
    "id": "_tIJ2xg59yUk"
   },
   "source": [
    "<a id=\"cond\"> </a>\n",
    "## 7. Conditional Statements"
   ]
  },
  {
   "cell_type": "markdown",
   "metadata": {
    "id": "7wf0-BJd9yUk"
   },
   "source": [
    "<table align=\"left\">\n",
    "    <tr>\n",
    "        <td width=\"6%\">\n",
    "            <img src=\"question_icon.png\">\n",
    "        </td>\n",
    "        <td>\n",
    "            <div align=\"left\", style=\"font-size:120%\">\n",
    "                <font color=\"#21618C\">\n",
    "                    <b>26.. Write a program to check whether a given number is multiple of 7 (use if statement)</b>\n",
    "                </font>\n",
    "            </div>\n",
    "        </td>\n",
    "    </tr>\n",
    "</table>"
   ]
  },
  {
   "cell_type": "code",
   "execution_count": 141,
   "metadata": {
    "id": "CeqOyYYc9yUk"
   },
   "outputs": [
    {
     "name": "stdout",
     "output_type": "stream",
     "text": [
      "28 is a multiple of 7.\n"
     ]
    }
   ],
   "source": [
    "# consider a number\n",
    "\n",
    "number = 28\n",
    "\n",
    " \n",
    "\n",
    "# pass condition to 'if' statement\n",
    "\n",
    "if number%7== 0:\n",
    "\n",
    "    print(number, \"is a multiple of 7.\")"
   ]
  },
  {
   "cell_type": "markdown",
   "metadata": {
    "id": "o6ssVSo89yUl"
   },
   "source": [
    "<table align=\"left\">\n",
    "    <tr>\n",
    "        <td width=\"6%\">\n",
    "            <img src=\"question_icon.png\">\n",
    "        </td>\n",
    "        <td>\n",
    "            <div align=\"left\", style=\"font-size:120%\">\n",
    "                <font color=\"#21618C\">\n",
    "                    <b>27. Write a code to print the maximum of two numbers (use if-else)</b>\n",
    "                </font>\n",
    "            </div>\n",
    "        </td>\n",
    "    </tr>\n",
    "</table>"
   ]
  },
  {
   "cell_type": "code",
   "execution_count": 142,
   "metadata": {
    "id": "xkIqseZA9yUl"
   },
   "outputs": [
    {
     "name": "stdout",
     "output_type": "stream",
     "text": [
      "y = 71 is the maximum number\n"
     ]
    }
   ],
   "source": [
    "# consider the numbers\n",
    "\n",
    "x = 55\n",
    "\n",
    "y = 71\n",
    "\n",
    " \n",
    "\n",
    "# pass condition to 'if' statement\n",
    "\n",
    "if (x < y):\n",
    "\n",
    "    print('y =' +' '+ str(y)  +' '+ 'is the maximum number')\n",
    "\n",
    "else:\n",
    "\n",
    "    print('x =' +' '+ str(x)  +' '+ 'is the maximum number')"
   ]
  },
  {
   "cell_type": "markdown",
   "metadata": {
    "id": "AMQPpizL9yUl"
   },
   "source": [
    "<table align=\"left\">\n",
    "    <tr>\n",
    "        <td width=\"6%\">\n",
    "            <img src=\"question_icon.png\">\n",
    "        </td>\n",
    "        <td>\n",
    "            <div align=\"left\", style=\"font-size:120%\">\n",
    "                <font color=\"#21618C\">\n",
    "                    <b>28. Write a program to check whether a number is positive, negative or zero (use if-elif) </b>\n",
    "                </font>\n",
    "            </div>\n",
    "        </td>\n",
    "    </tr>\n",
    "</table>"
   ]
  },
  {
   "cell_type": "code",
   "execution_count": 143,
   "metadata": {
    "id": "5ijU92ud9yUl"
   },
   "outputs": [
    {
     "name": "stdout",
     "output_type": "stream",
     "text": [
      "Number is positive\n"
     ]
    }
   ],
   "source": [
    "# consider a number\n",
    "\n",
    "number = 45\n",
    "\n",
    " \n",
    "\n",
    "# pass condition to 'if' statement\n",
    "\n",
    "if number == 0:\n",
    "\n",
    "    print(\"Number is zero\")\n",
    "\n",
    "    \n",
    "\n",
    "# pass condition to 'elif' statement\n",
    "\n",
    "elif number > 0:\n",
    "\n",
    "    print(\"Number is positive\")                  \n",
    "\n",
    "else:\n",
    "\n",
    "    print(\"Number is negative\")"
   ]
  },
  {
   "cell_type": "code",
   "execution_count": null,
   "metadata": {},
   "outputs": [],
   "source": []
  }
 ],
 "metadata": {
  "colab": {
   "collapsed_sections": [
    "6ksiCCmSHq8v",
    "Jhgx8xp0Hq84",
    "tjmTbT_5Hq88",
    "mndBIIDcHq9Q",
    "_6RhO3T4Hq95",
    "_tIJ2xg59yUk"
   ],
   "name": "Python- In-Class Lab Exercise (Week 2) - Questions.ipynb",
   "provenance": []
  },
  "kernelspec": {
   "display_name": "Python 3 (ipykernel)",
   "language": "python",
   "name": "python3"
  },
  "language_info": {
   "codemirror_mode": {
    "name": "ipython",
    "version": 3
   },
   "file_extension": ".py",
   "mimetype": "text/x-python",
   "name": "python",
   "nbconvert_exporter": "python",
   "pygments_lexer": "ipython3",
   "version": "3.11.5"
  }
 },
 "nbformat": 4,
 "nbformat_minor": 1
}
